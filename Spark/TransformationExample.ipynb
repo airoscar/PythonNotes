{
 "cells": [
  {
   "cell_type": "code",
   "execution_count": 1,
   "metadata": {},
   "outputs": [
    {
     "name": "stderr",
     "output_type": "stream",
     "text": [
      "INFO:sparkhpc.sparkjob:Submitted batch job 632797\n",
      "\n",
      "INFO:sparkhpc.sparkjob:Submitted cluster 2\n"
     ]
    }
   ],
   "source": [
    "import os\n",
    "import atexit\n",
    "import sys\n",
    "\n",
    "import pyspark\n",
    "from pyspark.context import SparkContext\n",
    "from pyspark.sql import SQLContext\n",
    "import findspark\n",
    "from sparkhpc import sparkjob\n",
    "\n",
    "#Exit handler to clean up the Spark cluster if the script exits or crashes\n",
    "def exitHandler(sj,sc):\n",
    "    try:\n",
    "        print('Trapped Exit cleaning up Spark Context')\n",
    "        sc.stop()\n",
    "    except:\n",
    "        pass\n",
    "    try:\n",
    "        print('Trapped Exit cleaning up Spark Job')\n",
    "        sj.stop()\n",
    "    except:\n",
    "        pass\n",
    "\n",
    "findspark.init()\n",
    "\n",
    "#Parameters for the Spark cluster\n",
    "nodes=3\n",
    "tasks_per_node=8 \n",
    "memory_per_task=1024 #1 gig per process, adjust accordingly\n",
    "# Please estimate walltime carefully to keep unused Spark clusters from sitting \n",
    "# idle so that others may use the resources.\n",
    "walltime=\"1:00\" #1 hour\n",
    "os.environ['SBATCH_PARTITION']='single' #Set the appropriate ARC partition\n",
    "\n",
    "sj = sparkjob.sparkjob(\n",
    "     ncores=nodes*tasks_per_node,\n",
    "     cores_per_executor=tasks_per_node,\n",
    "     memory_per_core=memory_per_task,\n",
    "     walltime=walltime\n",
    "    )\n",
    "\n",
    "sj.wait_to_start()\n",
    "sc = sj.start_spark()\n",
    "\n",
    "#Register the exit handler                                                                                                     \n",
    "atexit.register(exitHandler,sj,sc)\n",
    "\n",
    "#You need this line if you want to use SparkSQL\n",
    "sqlCtx=SQLContext(sc)\n"
   ]
  },
  {
   "cell_type": "code",
   "execution_count": null,
   "metadata": {},
   "outputs": [],
   "source": [
    "data = [1, 5, 4, 4, 5,5]\n",
    "distData = sc.parallelize(data)\n",
    "\n",
    "\n",
    "\n",
    "distinctOutput=distData.distinct()#retrun distinct rows\n",
    "mapOutput=distData.map(lambda x: x*x)#multiple each element in teh list by itself\n",
    "\n",
    "reduceOutput=distData.reduce(lambda x,y: x*y)#multiply two elemnts and retrun a value. The output of this action is one value.\n",
    "filterOutput=distinctOutput.filter(lambda x: x % 3 == 0) \n",
    "\n",
    "takeOutput=distData.take(3) #retrieve top 3 raws\n",
    "\n",
    "takeOrderedOutput=distData.takeOrdered(5,lambda s:-1*s) # sort data in descending order and then take top 5\n",
    "\n",
    "print(mapOutput.glom().collect())#print the structure of RDD\n"
   ]
  },
  {
   "cell_type": "code",
   "execution_count": null,
   "metadata": {},
   "outputs": [],
   "source": [
    "myInfo=sc.textFile(\"./SparkTestFile.txt\")\n",
    "\n",
    "print(myInfo.getNumPartitions()) #get number of partitions\n",
    "print(myInfo.glom().collect()) #Partitions structure:\n",
    "print(myInfo.count()) #get Number of rows"
   ]
  },
  {
   "cell_type": "code",
   "execution_count": 2,
   "metadata": {
    "scrolled": true
   },
   "outputs": [
    {
     "name": "stdout",
     "output_type": "stream",
     "text": [
      "24\n",
      "[[], [], [], [], [], [], [], [], [], [], [], [['hello', 'world']], [], [], [], [], [], [], [], [], [], [], [], [['how', 'are', 'you']]]\n",
      "['hello', 'world', 'how', 'are', 'you']\n"
     ]
    }
   ],
   "source": [
    "data=[\"hello world\",\"how are you\"]\n",
    "mapData = sc.parallelize(data).map(lambda w: w.split(\" \"))\n",
    "flatMapData = sc.parallelize(data).flatMap(lambda w: w.split(\" \"))\n",
    "print(mapData.getNumPartitions())\n",
    "print(mapData.glom().collect())\n",
    "print(flatMapData.collect())"
   ]
  },
  {
   "cell_type": "code",
   "execution_count": null,
   "metadata": {},
   "outputs": [],
   "source": [
    "print(mapData.collect())"
   ]
  },
  {
   "cell_type": "code",
   "execution_count": null,
   "metadata": {},
   "outputs": [],
   "source": [
    "myData=[\"abed\",\"abed\",\"data\",\"ENSF\",\"SPAR\"]\n",
    "data = sc.parallelize(myData,2).map(lambda w: (w,1)).reduceByKey(lambda p,q: p+q)\n",
    "print(data.glom().collect())"
   ]
  },
  {
   "cell_type": "code",
   "execution_count": null,
   "metadata": {},
   "outputs": [],
   "source": [
    "myData=[('k',5),('s',3),('s',4),('p',7),('p',5),('t',8),('k',6)]\n",
    "data = sc.parallelize(myData,3)\n",
    "group = data.groupByKey().collect()\n",
    "print(group)"
   ]
  },
  {
   "cell_type": "code",
   "execution_count": null,
   "metadata": {},
   "outputs": [],
   "source": [
    "myData=[('k',5),('s',3),('s',4),('p',7),('p',5),('t',8),('k',6)] \n",
    "data = sc.parallelize(myData,3)\n",
    "group = data.groupByKey().agg()\n",
    "print(group)"
   ]
  },
  {
   "cell_type": "code",
   "execution_count": null,
   "metadata": {},
   "outputs": [],
   "source": [
    "for i in group[1][1]:\n",
    "    print (i)"
   ]
  },
  {
   "cell_type": "code",
   "execution_count": null,
   "metadata": {},
   "outputs": [],
   "source": [
    "myData=[\"abed\",\"abed\",\"data\",\"ENSF\",\"SPAR\"]\n",
    "data = sc.parallelize(myData,5).map(lambda w: (w,1)).reduceByKey(lambda i,j: i+j)\n",
    "print(data.glom().collect())"
   ]
  },
  {
   "cell_type": "code",
   "execution_count": null,
   "metadata": {},
   "outputs": [],
   "source": []
  },
  {
   "cell_type": "code",
   "execution_count": null,
   "metadata": {},
   "outputs": [],
   "source": []
  }
 ],
 "metadata": {
  "kernelspec": {
   "display_name": "Python 3",
   "language": "python",
   "name": "python3"
  },
  "language_info": {
   "codemirror_mode": {
    "name": "ipython",
    "version": 3
   },
   "file_extension": ".py",
   "mimetype": "text/x-python",
   "name": "python",
   "nbconvert_exporter": "python",
   "pygments_lexer": "ipython3",
   "version": "3.7.0"
  }
 },
 "nbformat": 4,
 "nbformat_minor": 2
}
