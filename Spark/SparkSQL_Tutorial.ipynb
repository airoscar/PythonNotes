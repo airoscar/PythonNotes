{
 "cells": [
  {
   "cell_type": "code",
   "execution_count": 9,
   "metadata": {},
   "outputs": [
    {
     "name": "stderr",
     "output_type": "stream",
     "text": [
      "INFO:sparkhpc.sparkjob:Submitted batch job 630701\n",
      "\n",
      "INFO:sparkhpc.sparkjob:Submitted cluster 0\n"
     ]
    },
    {
     "name": "stdout",
     "output_type": "stream",
     "text": [
      "Cleaning up Spark Job\n",
      "Cleaning up Spark Context\n"
     ]
    }
   ],
   "source": [
    "import os\n",
    "import atexit\n",
    "import sys\n",
    "import pyspark\n",
    "from pyspark.context import SparkContext\n",
    "from pyspark.sql import SQLContext\n",
    "import findspark\n",
    "from sparkhpc import sparkjob\n",
    "import pandas\n",
    "from pyspark.sql import SparkSession\n",
    "\n",
    "#Exit handler to clean up the Spark cluster if the script exits or crashes\n",
    "def exitHandler(sj,sc):\n",
    "    try:\n",
    "        print('Trapped Exit cleaning up Spark Context')\n",
    "        sc.stop()\n",
    "    except:\n",
    "        pass\n",
    "    try:\n",
    "        print('Trapped Exit cleaning up Spark Job')\n",
    "        sj.stop()\n",
    "    except:\n",
    "        pass\n",
    "\n",
    "findspark.init()\n",
    "\n",
    "#Parameters for the Spark cluster\n",
    "nodes=3\n",
    "tasks_per_node=8 \n",
    "memory_per_task=1024 #1 gig per process, adjust accordingly\n",
    "# Please estimate walltime carefully to keep unused Spark clusters from sitting \n",
    "# idle so that others may use the resources.\n",
    "walltime=\"2:00\" #60 min \n",
    "os.environ['SBATCH_PARTITION']='breezy' #Set the appropriate ARC partition\n",
    "\n",
    "sj = sparkjob.sparkjob(\n",
    "     ncores=nodes*tasks_per_node,\n",
    "     cores_per_executor=tasks_per_node,\n",
    "     memory_per_core=memory_per_task,\n",
    "     walltime=walltime\n",
    "    )\n",
    "\n",
    "try:\n",
    "    print('Cleaning up Spark Job')\n",
    "    sj.stop()\n",
    "except:\n",
    "    pass\n",
    "\n",
    "sj.wait_to_start()\n",
    "\n",
    "try:\n",
    "    print('Cleaning up Spark Context')\n",
    "    sc.stop()\n",
    "except:\n",
    "    pass\n",
    "\n",
    "sc = sj.start_spark()\n",
    "\n",
    "#Register the exit handler                                                                                                     \n",
    "atexit.register(exitHandler,sj,sc)\n",
    "\n",
    "#You need this line if you want to use SparkSQL\n",
    "sqlCtx=SQLContext(sc)\n"
   ]
  },
  {
   "cell_type": "code",
   "execution_count": 10,
   "metadata": {},
   "outputs": [],
   "source": [
    "from pyspark.sql import SparkSession\n",
    "spark = SparkSession.builder.appName('dfTest').getOrCreate()\n",
    "df = spark.read.csv('../Dataset/flight_perf_2013_1.csv',inferSchema=True,header=True)"
   ]
  },
  {
   "cell_type": "markdown",
   "metadata": {},
   "source": [
    "### First create a view to use as a table"
   ]
  },
  {
   "cell_type": "code",
   "execution_count": 11,
   "metadata": {
    "scrolled": true
   },
   "outputs": [
    {
     "name": "stdout",
     "output_type": "stream",
     "text": [
      "+------+----+--------+\n",
      "|Origin|Dest|Distance|\n",
      "+------+----+--------+\n",
      "|   HNL| JFK|  4983.0|\n",
      "|   HNL| JFK|  4983.0|\n",
      "|   HNL| JFK|  4983.0|\n",
      "|   HNL| JFK|  4983.0|\n",
      "|   HNL| JFK|  4983.0|\n",
      "|   HNL| JFK|  4983.0|\n",
      "|   HNL| JFK|  4983.0|\n",
      "|   HNL| JFK|  4983.0|\n",
      "|   HNL| JFK|  4983.0|\n",
      "|   HNL| JFK|  4983.0|\n",
      "|   HNL| JFK|  4983.0|\n",
      "|   HNL| JFK|  4983.0|\n",
      "|   HNL| JFK|  4983.0|\n",
      "|   HNL| JFK|  4983.0|\n",
      "|   HNL| JFK|  4983.0|\n",
      "|   HNL| JFK|  4983.0|\n",
      "|   HNL| JFK|  4983.0|\n",
      "|   HNL| JFK|  4983.0|\n",
      "|   HNL| JFK|  4983.0|\n",
      "|   HNL| JFK|  4983.0|\n",
      "+------+----+--------+\n",
      "only showing top 20 rows\n",
      "\n"
     ]
    }
   ],
   "source": [
    "df.createOrReplaceTempView(\"flights\")\n",
    "#The first way is using the functions we used in dataframes\n",
    "sqlCtx.table(\"flights\").select(\"Origin\",\"Dest\",\"Distance\").orderBy(\"Distance\", ascending=False).show()"
   ]
  },
  {
   "cell_type": "code",
   "execution_count": 7,
   "metadata": {
    "scrolled": true
   },
   "outputs": [
    {
     "name": "stdout",
     "output_type": "stream",
     "text": [
      "+------+----+--------+\n",
      "|Origin|Dest|Distance|\n",
      "+------+----+--------+\n",
      "|   HNL| JFK|  4983.0|\n",
      "|   HNL| JFK|  4983.0|\n",
      "|   HNL| JFK|  4983.0|\n",
      "|   HNL| JFK|  4983.0|\n",
      "|   HNL| JFK|  4983.0|\n",
      "|   HNL| JFK|  4983.0|\n",
      "|   HNL| JFK|  4983.0|\n",
      "|   HNL| JFK|  4983.0|\n",
      "|   HNL| JFK|  4983.0|\n",
      "|   HNL| JFK|  4983.0|\n",
      "|   HNL| JFK|  4983.0|\n",
      "|   HNL| JFK|  4983.0|\n",
      "|   HNL| JFK|  4983.0|\n",
      "|   HNL| JFK|  4983.0|\n",
      "|   HNL| JFK|  4983.0|\n",
      "|   HNL| JFK|  4983.0|\n",
      "|   HNL| JFK|  4983.0|\n",
      "|   HNL| JFK|  4983.0|\n",
      "|   HNL| JFK|  4983.0|\n",
      "|   HNL| JFK|  4983.0|\n",
      "+------+----+--------+\n",
      "only showing top 20 rows\n",
      "\n"
     ]
    }
   ],
   "source": [
    "#But you canalso use native SQLs\n",
    "sqlCtx.sql(\"select Origin, Dest, Distance from flights order by Distance desc\").show()"
   ]
  },
  {
   "cell_type": "markdown",
   "metadata": {},
   "source": [
    "## Find max total delay for each AirlineID (totalDelay = ArrDelay-DepDelay)"
   ]
  },
  {
   "cell_type": "code",
   "execution_count": 8,
   "metadata": {
    "scrolled": true
   },
   "outputs": [
    {
     "name": "stdout",
     "output_type": "stream",
     "text": [
      "+---------+-------------+\n",
      "|AirlineID|MaxTotalDelay|\n",
      "+---------+-------------+\n",
      "|    20398|        149.0|\n",
      "|    19690|         59.0|\n",
      "|    20409|        154.0|\n",
      "|    20378|        182.0|\n",
      "|    19790|        212.0|\n",
      "|    20304|        161.0|\n",
      "|    20436|        102.0|\n",
      "|    19393|        161.0|\n",
      "|    20355|        150.0|\n",
      "|    19805|        139.0|\n",
      "|    19930|        112.0|\n",
      "|    20366|        142.0|\n",
      "|    20363|        127.0|\n",
      "|    19977|        146.0|\n",
      "|    21171|        108.0|\n",
      "|    20437|        122.0|\n",
      "+---------+-------------+\n",
      "\n"
     ]
    }
   ],
   "source": [
    "sqlCtx.sql(\"select AirlineID, max(ArrDelay-DepDelay) as MaxTotalDelay \\\n",
    "            from flights group by AirlineID\").show(50) # It is possible to use backslash to write multiline queries"
   ]
  },
  {
   "cell_type": "markdown",
   "metadata": {},
   "source": [
    "## Find airlineIDs with negative arrival delay count > 30000"
   ]
  },
  {
   "cell_type": "code",
   "execution_count": 9,
   "metadata": {
    "scrolled": false
   },
   "outputs": [
    {
     "name": "stdout",
     "output_type": "stream",
     "text": [
      "+---------+--------+\n",
      "|AirlineID|count(1)|\n",
      "+---------+--------+\n",
      "|    19790|   39867|\n",
      "|    19393|   55018|\n",
      "|    20366|   30895|\n",
      "+---------+--------+\n",
      "\n"
     ]
    }
   ],
   "source": [
    "#When it is asked to do some operations for 'each' specific feature value,\n",
    "#Then you need group by statement.\n",
    "#If the criteria is based  on a future for a resulting group, then you need to use 'having'\n",
    "#Otherwise, 'where' statement is used for filtering the data\n",
    "sqlCtx.sql(\"select AirlineID, count(*) from flights \\\n",
    "            where ArrDelay < 0 \\\n",
    "            group by AirlineID having count(*) > 30000\").show()"
   ]
  },
  {
   "cell_type": "markdown",
   "metadata": {},
   "source": [
    "## Find all the origins with their cancelled flight counts"
   ]
  },
  {
   "cell_type": "code",
   "execution_count": 10,
   "metadata": {
    "scrolled": true
   },
   "outputs": [
    {
     "name": "stdout",
     "output_type": "stream",
     "text": [
      "+------+--------+\n",
      "|Origin|count(1)|\n",
      "+------+--------+\n",
      "|   BGM|       1|\n",
      "|   INL|       3|\n",
      "|   MSY|      27|\n",
      "|   GEG|      11|\n",
      "|   SNA|      25|\n",
      "|   BUR|      37|\n",
      "|   GRB|      36|\n",
      "|   GTF|       3|\n",
      "|   IDA|       8|\n",
      "|   GRR|      22|\n",
      "|   JLN|       2|\n",
      "|   EUG|      16|\n",
      "|   GSO|      25|\n",
      "|   MYR|       4|\n",
      "|   PVD|       5|\n",
      "|   OAK|      36|\n",
      "|   FAR|      20|\n",
      "|   FSM|       2|\n",
      "|   MSN|      24|\n",
      "|   MQT|       2|\n",
      "|   COD|       4|\n",
      "|   BTM|       7|\n",
      "|   SCC|       2|\n",
      "|   ESC|       6|\n",
      "|   DCA|     122|\n",
      "|   MLU|      17|\n",
      "|   CID|      52|\n",
      "|   GTR|       2|\n",
      "|   LWS|       2|\n",
      "|   WRG|       1|\n",
      "|   HLN|       2|\n",
      "|   CIU|       1|\n",
      "|   LEX|      19|\n",
      "|   RDM|       7|\n",
      "|   ORF|      27|\n",
      "|   SCE|       5|\n",
      "|   EVV|       6|\n",
      "|   KTN|       6|\n",
      "|   CRW|      11|\n",
      "|   CWA|      20|\n",
      "|   SAV|       6|\n",
      "|   GCK|       2|\n",
      "|   TRI|       4|\n",
      "|   CDV|       2|\n",
      "|   CMH|      27|\n",
      "|   MOD|       9|\n",
      "|   TYR|       6|\n",
      "|   ADK|       2|\n",
      "|   CAK|       5|\n",
      "|   CHO|       6|\n",
      "|   MOB|      10|\n",
      "|   PNS|      14|\n",
      "|   CEC|       5|\n",
      "|   LIH|      22|\n",
      "|   IAH|     240|\n",
      "|   HNL|      49|\n",
      "|   SHV|      15|\n",
      "|   ERI|       7|\n",
      "|   CVG|      78|\n",
      "|   SJC|      31|\n",
      "|   LGA|     185|\n",
      "|   BUF|      29|\n",
      "|   TLH|       3|\n",
      "|   CDC|       3|\n",
      "|   ACT|       2|\n",
      "|   HPN|      51|\n",
      "|   RDD|       2|\n",
      "|   AUS|      32|\n",
      "|   GCC|       8|\n",
      "|   MLI|       6|\n",
      "|   SJU|       6|\n",
      "|   DHN|       2|\n",
      "|   ATW|      33|\n",
      "|   AVL|       5|\n",
      "|   GJT|       6|\n",
      "|   LGB|      12|\n",
      "|   GFK|       5|\n",
      "|   BFL|       3|\n",
      "|   SRQ|       3|\n",
      "|   RNO|      13|\n",
      "|   SBN|      20|\n",
      "|   EYW|       1|\n",
      "|   BJI|       6|\n",
      "|   TTN|       1|\n",
      "|   JAC|       5|\n",
      "|   RST|      15|\n",
      "|   CHS|      15|\n",
      "|   TUL|      31|\n",
      "|   HRL|       6|\n",
      "|   RSW|       9|\n",
      "|   IPL|       1|\n",
      "|   AMA|       7|\n",
      "|   ISP|       1|\n",
      "|   BOS|      83|\n",
      "|   MAF|      12|\n",
      "|   EWR|     240|\n",
      "|   LAS|      44|\n",
      "|   BIS|       8|\n",
      "|   JAN|      14|\n",
      "|   FAI|       1|\n",
      "|   ITO|       4|\n",
      "|   IMT|       5|\n",
      "|   XNA|      18|\n",
      "|   DLH|      20|\n",
      "|   DEN|     153|\n",
      "|   RHI|       6|\n",
      "|   SGU|       6|\n",
      "|   CPR|       4|\n",
      "|   ALB|      14|\n",
      "|   LNK|       5|\n",
      "|   OME|       3|\n",
      "|   GRI|       1|\n",
      "|   IAD|     114|\n",
      "|   PSP|      11|\n",
      "|   SBA|      10|\n",
      "|   IYK|       3|\n",
      "|   BOI|      10|\n",
      "|   HOB|       2|\n",
      "|   LAR|       3|\n",
      "|   BRO|       9|\n",
      "|   DRO|       4|\n",
      "|   BRD|       4|\n",
      "|   BMI|      12|\n",
      "|   RKS|       7|\n",
      "|   SEA|      44|\n",
      "|   CMI|      13|\n",
      "|   LAN|      11|\n",
      "|   LRD|       7|\n",
      "|   VLD|       2|\n",
      "|   MCI|      50|\n",
      "|   FLG|       6|\n",
      "|   GRK|      13|\n",
      "|   BNA|      75|\n",
      "|   CLT|     119|\n",
      "|   CLL|       7|\n",
      "|   TVC|       4|\n",
      "|   PSC|       5|\n",
      "|   CIC|       4|\n",
      "|   ABQ|      19|\n",
      "|   PBI|       8|\n",
      "|   SDF|      11|\n",
      "|   ART|       4|\n",
      "|   ACV|      23|\n",
      "|   LAW|       5|\n",
      "|   BDL|      24|\n",
      "|   DAL|      57|\n",
      "|   MRY|      14|\n",
      "|   ITH|       2|\n",
      "|   CLE|      49|\n",
      "|   PDX|      54|\n",
      "|   MIA|      51|\n",
      "|   MFR|      17|\n",
      "|   TWF|       8|\n",
      "|   TPA|      21|\n",
      "|   BWI|      53|\n",
      "|   CMX|      10|\n",
      "|   OKC|      24|\n",
      "|   ROA|      12|\n",
      "|   SMF|      44|\n",
      "|   OTH|       3|\n",
      "|   SPI|       3|\n",
      "|   BRW|       3|\n",
      "|   ABI|       5|\n",
      "|   MBS|      12|\n",
      "|   ELM|       2|\n",
      "|   PHX|      48|\n",
      "|   FCA|       5|\n",
      "|   ABR|       3|\n",
      "|   ABY|       3|\n",
      "|   PWM|      10|\n",
      "|   STL|      53|\n",
      "|   BET|       3|\n",
      "|   MHT|      23|\n",
      "|   DFW|     512|\n",
      "|   ABE|      12|\n",
      "|   TXK|       3|\n",
      "|   GSP|      20|\n",
      "|   MMH|      10|\n",
      "|   LSE|       4|\n",
      "|   FAY|       7|\n",
      "|   HDN|       4|\n",
      "|   LMT|       9|\n",
      "|   LBB|       9|\n",
      "|   EKO|       6|\n",
      "|   CRP|      13|\n",
      "|   EGE|       6|\n",
      "|   FSD|      25|\n",
      "|   SWF|       4|\n",
      "|   CSG|       3|\n",
      "|   SUN|      31|\n",
      "|   SFO|     169|\n",
      "|   MEM|      90|\n",
      "|   SAF|       1|\n",
      "|   ELP|      37|\n",
      "|   BHM|      15|\n",
      "|   ATL|     301|\n",
      "|   FLL|      22|\n",
      "|   FNT|       2|\n",
      "|   PIH|       6|\n",
      "|   RIC|      27|\n",
      "|   DAY|      24|\n",
      "|   PHF|       4|\n",
      "|   OMA|      33|\n",
      "|   SJT|       4|\n",
      "|   LCH|       4|\n",
      "|   VPS|       9|\n",
      "|   MHK|       1|\n",
      "|   LIT|      15|\n",
      "|   CAE|      11|\n",
      "|   ICT|      15|\n",
      "|   FAT|      14|\n",
      "|   ECP|       1|\n",
      "|   ORD|     604|\n",
      "|   AVP|       7|\n",
      "|   BTV|       7|\n",
      "|   COU|       2|\n",
      "|   MKG|       5|\n",
      "|   SPS|       1|\n",
      "|   AEX|       6|\n",
      "|   BIL|       4|\n",
      "|   ILM|       4|\n",
      "|   SMX|       2|\n",
      "|   PIA|      20|\n",
      "|   RDU|      99|\n",
      "|   MFE|       8|\n",
      "|   HIB|       2|\n",
      "|   MKE|      33|\n",
      "|   SYR|       9|\n",
      "|   ISN|       7|\n",
      "|   LFT|      33|\n",
      "|   HSV|      17|\n",
      "|   PIT|      35|\n",
      "|   TUS|      14|\n",
      "|   MTJ|       5|\n",
      "|   ROW|       3|\n",
      "|   MDW|      26|\n",
      "|   AZO|      17|\n",
      "|   PLN|       7|\n",
      "|   OAJ|       5|\n",
      "|   COS|      14|\n",
      "|   JNU|       9|\n",
      "|   IND|      23|\n",
      "|   ALO|       2|\n",
      "|   KOA|       8|\n",
      "|   EAU|       2|\n",
      "|   GPT|      14|\n",
      "|   MGM|      10|\n",
      "|   DTW|     236|\n",
      "|   TYS|      24|\n",
      "|   HOU|      58|\n",
      "|   CHA|       8|\n",
      "|   YUM|       1|\n",
      "|   ADQ|       4|\n",
      "|   FWA|      10|\n",
      "|   MDT|       7|\n",
      "|   ONT|      18|\n",
      "|   JAX|      18|\n",
      "|   MSP|     211|\n",
      "|   LAX|     144|\n",
      "|   MOT|      12|\n",
      "|   BTR|      12|\n",
      "|   SIT|       1|\n",
      "|   MCO|      30|\n",
      "|   SGF|      10|\n",
      "|   ROC|       6|\n",
      "|   OTZ|       2|\n",
      "|   AGS|       4|\n",
      "|   SAN|      54|\n",
      "|   BZN|       5|\n",
      "|   GGG|       2|\n",
      "|   YAK|       1|\n",
      "|   JFK|     103|\n",
      "|   ANC|      12|\n",
      "|   SUX|       2|\n",
      "|   PAH|       2|\n",
      "|   MSO|       6|\n",
      "|   GNV|       1|\n",
      "|   PHL|      77|\n",
      "|   OGG|      21|\n",
      "|   DSM|      29|\n",
      "|   SLC|     204|\n",
      "|   SAT|      41|\n",
      "|   STT|       2|\n",
      "|   RAP|       9|\n",
      "|   ASE|      41|\n",
      "|   SBP|      11|\n",
      "|   CLD|       4|\n",
      "+------+--------+\n",
      "\n"
     ]
    }
   ],
   "source": [
    "sqlCtx.sql(\"select Origin, count(*) from flights where Cancelled > 0 group by Origin\").show(2000)"
   ]
  },
  {
   "cell_type": "markdown",
   "metadata": {},
   "source": [
    "## Show the top 10 of previous list in descending order"
   ]
  },
  {
   "cell_type": "code",
   "execution_count": 12,
   "metadata": {
    "scrolled": false
   },
   "outputs": [
    {
     "name": "stdout",
     "output_type": "stream",
     "text": [
      "+------+--------+\n",
      "|Origin|count(1)|\n",
      "+------+--------+\n",
      "|   ORD|     604|\n",
      "|   DFW|     512|\n",
      "|   ATL|     301|\n",
      "|   IAH|     240|\n",
      "|   EWR|     240|\n",
      "|   DTW|     236|\n",
      "|   MSP|     211|\n",
      "|   SLC|     204|\n",
      "|   LGA|     185|\n",
      "|   SFO|     169|\n",
      "+------+--------+\n",
      "\n"
     ]
    }
   ],
   "source": [
    "#the first part is the same, we need to add order by statement and limit the result to 10\n",
    "sqlCtx.sql(\"select Origin, count(*) from flights \\\n",
    "            where Cancelled > 0 group by Origin \\\n",
    "            order by count(*) desc limit 10\").show(50)"
   ]
  },
  {
   "cell_type": "markdown",
   "metadata": {},
   "source": [
    "## Show the minimum flight distance for origins which are in the top 10 of cancelled flight count"
   ]
  },
  {
   "cell_type": "code",
   "execution_count": 12,
   "metadata": {
    "scrolled": true
   },
   "outputs": [
    {
     "name": "stdout",
     "output_type": "stream",
     "text": [
      "+------+-------------+\n",
      "|Origin|min(Distance)|\n",
      "+------+-------------+\n",
      "|   IAH|         74.0|\n",
      "|   LGA|         96.0|\n",
      "|   EWR|         80.0|\n",
      "|   DFW|         89.0|\n",
      "|   SFO|         77.0|\n",
      "|   ATL|         83.0|\n",
      "|   ORD|         67.0|\n",
      "|   DTW|         56.0|\n",
      "|   MSP|         76.0|\n",
      "|   SLC|        150.0|\n",
      "+------+-------------+\n",
      "\n"
     ]
    }
   ],
   "source": [
    "sqlCtx.sql(\"select Origin, min(Distance) from flights \\\n",
    "            where Origin IN \\\n",
    "               (select Origin from flights where Cancelled > 0 \\\n",
    "                group by Origin order by count(*) desc limit 10) \\\n",
    "            group by Origin\").show()"
   ]
  },
  {
   "cell_type": "markdown",
   "metadata": {},
   "source": [
    "## Find sum(abs(DepDelay) + abs(ArrDelay)) in 24th day of the month\n",
    "(Sum of total delays for 24th day of the month. We use abs function to penalize early arrivals/departures too)"
   ]
  },
  {
   "cell_type": "code",
   "execution_count": 13,
   "metadata": {
    "scrolled": false
   },
   "outputs": [
    {
     "name": "stdout",
     "output_type": "stream",
     "text": [
      "+------------------------------------+\n",
      "|sum((abs(DepDelay) + abs(ArrDelay)))|\n",
      "+------------------------------------+\n",
      "|                            642433.0|\n",
      "+------------------------------------+\n",
      "\n"
     ]
    }
   ],
   "source": [
    "sqlCtx.sql(\"select sum(abs(DepDelay) + abs(ArrDelay)) from flights where DayOfMonth=24\").show()"
   ]
  },
  {
   "cell_type": "markdown",
   "metadata": {},
   "source": [
    "## For each day of month find the number of cancelled flights, and return:\n",
    "\n",
    "## LOW if count < 100\n",
    "## NORMAL if count < 400\n",
    "## CRITICAL otherwise"
   ]
  },
  {
   "cell_type": "code",
   "execution_count": 18,
   "metadata": {
    "scrolled": true
   },
   "outputs": [
    {
     "name": "stdout",
     "output_type": "stream",
     "text": [
      "+----------+--------+--------+\n",
      "|DayOfMonth|count(1)|   LEVEL|\n",
      "+----------+--------+--------+\n",
      "|        31|     373|  NORMAL|\n",
      "|        28|     556|CRITICAL|\n",
      "|        26|     173|  NORMAL|\n",
      "|        27|     592|CRITICAL|\n",
      "|        12|     150|  NORMAL|\n",
      "|        22|     138|  NORMAL|\n",
      "|         1|     116|  NORMAL|\n",
      "|        13|     280|  NORMAL|\n",
      "|        16|     339|  NORMAL|\n",
      "|         6|      80|     LOW|\n",
      "|         3|     123|  NORMAL|\n",
      "|        20|     226|  NORMAL|\n",
      "|         5|      52|     LOW|\n",
      "|        19|      52|     LOW|\n",
      "|        15|     555|CRITICAL|\n",
      "|         9|     141|  NORMAL|\n",
      "|        17|     242|  NORMAL|\n",
      "|         4|     136|  NORMAL|\n",
      "|         8|      78|     LOW|\n",
      "|        23|     201|  NORMAL|\n",
      "|         7|      87|     LOW|\n",
      "|        10|     118|  NORMAL|\n",
      "|        25|     353|  NORMAL|\n",
      "|        24|     335|  NORMAL|\n",
      "|        29|     504|CRITICAL|\n",
      "|        21|     162|  NORMAL|\n",
      "|        11|     279|  NORMAL|\n",
      "|        14|     189|  NORMAL|\n",
      "|         2|     145|  NORMAL|\n",
      "|        30|     672|CRITICAL|\n",
      "|        18|     114|  NORMAL|\n",
      "+----------+--------+--------+\n",
      "\n"
     ]
    }
   ],
   "source": [
    "sqlCtx.sql(\"select DayOfMonth, count(*), \\\n",
    "                case when count(*) < 100 then 'LOW' \\\n",
    "                when count(*) < 400 then 'NORMAL' \\\n",
    "                else 'CRITICAL' end as LEVEL \\\n",
    "            from flights where cancelled=1 group by DayofMonth\").show(35)\n",
    "#For the 3rd, column, the first is:\n",
    "#CASE [conditions] END"
   ]
  },
  {
   "cell_type": "markdown",
   "metadata": {},
   "source": [
    "## Airline with the maximum  avg flight distance between month's 10th and 20th days inclusive\n",
    "There are 2 ways to do it:\n",
    "1) Find the max value, run an outer query to find the airlines having value equal to the one found in the inner one\n",
    "2) Sort in descending order with avg flight distance, take the first one"
   ]
  },
  {
   "cell_type": "code",
   "execution_count": 22,
   "metadata": {
    "scrolled": true
   },
   "outputs": [
    {
     "name": "stdout",
     "output_type": "stream",
     "text": [
      "+---------+\n",
      "|AirlineID|\n",
      "+---------+\n",
      "|    21171|\n",
      "+---------+\n",
      "\n",
      "+---------+\n",
      "|AirlineID|\n",
      "+---------+\n",
      "|    21171|\n",
      "+---------+\n",
      "\n"
     ]
    }
   ],
   "source": [
    "sqlCtx.sql(\"select AirlineID from flights \\\n",
    "            where DayOfMonth >= 10 and DayofMonth <= 20 \\\n",
    "            group by AirlineID having AVG(Distance) = \\\n",
    "                (select max(avgDistance) from \\\n",
    "                    (select avg(Distance) as avgDistance from flights \\\n",
    "                    where DayOfMonth >= 10 and DayofMonth <= 20 \\\n",
    "                    group by AirlineID)\\\n",
    "                )\").show()\n",
    "#The second way:\n",
    "sqlCtx.sql(\"select AirlineID from flights \\\n",
    "            where DayOfMonth >= 10 and DayofMonth <= 20 \\\n",
    "            group by AirlineID \\\n",
    "            order by avg(Distance) desc limit 1\").show()"
   ]
  },
  {
   "cell_type": "markdown",
   "metadata": {},
   "source": [
    "## Find the origin that has the most flights to destination 'ATL' with distance > 600"
   ]
  },
  {
   "cell_type": "code",
   "execution_count": 25,
   "metadata": {
    "scrolled": true
   },
   "outputs": [
    {
     "name": "stdout",
     "output_type": "stream",
     "text": [
      "+------+--------+\n",
      "|Origin|count(1)|\n",
      "+------+--------+\n",
      "|   LGA|     878|\n",
      "+------+--------+\n",
      "\n"
     ]
    }
   ],
   "source": [
    "#Exercise: try using the first approach in the previous question\n",
    "sqlCtx.sql(\"select Origin, count(*) from flights \\\n",
    "            where Distance > 600 AND Dest = 'ATL' \\\n",
    "            group by Origin order by count(*) DESC limit 1\").show()"
   ]
  },
  {
   "cell_type": "markdown",
   "metadata": {},
   "source": [
    "## Find the state with the maximum distinct number of origins"
   ]
  },
  {
   "cell_type": "code",
   "execution_count": 20,
   "metadata": {
    "scrolled": true
   },
   "outputs": [
    {
     "name": "stdout",
     "output_type": "stream",
     "text": [
      "+-----------+-----+\n",
      "|OriginState|dOrig|\n",
      "+-----------+-----+\n",
      "|         CA|   26|\n",
      "+-----------+-----+\n",
      "\n"
     ]
    }
   ],
   "source": [
    "sqlCtx.sql(\"select OriginState, count(distinct Origin) as dOrig \\\n",
    "            from flights group by OriginState order by dOrig desc limit 1\").show()"
   ]
  },
  {
   "cell_type": "markdown",
   "metadata": {},
   "source": [
    "## Find the number of originState/destState pair with number of flights and avg abs total delays"
   ]
  },
  {
   "cell_type": "code",
   "execution_count": 27,
   "metadata": {
    "scrolled": true
   },
   "outputs": [
    {
     "name": "stdout",
     "output_type": "stream",
     "text": [
      "+---------+--------+------------------+\n",
      "|StatePair|count(1)|          avgDelay|\n",
      "+---------+--------+------------------+\n",
      "| [CA, CA]|   23665|24.234594501422045|\n",
      "| [TX, TX]|   19441|29.711495830254407|\n",
      "| [HI, HI]|    6153|22.228585575177423|\n",
      "| [GA, FL]|    5373| 23.64552936775159|\n",
      "| [FL, GA]|    5373|25.302638966872543|\n",
      "| [AZ, CA]|    5060|21.339023421992856|\n",
      "| [CA, AZ]|    5041| 21.04949111953702|\n",
      "| [FL, NY]|    4680| 35.53791315618924|\n",
      "| [NY, FL]|    4674|33.441875540190146|\n",
      "| [CA, TX]|    4547|27.085021144001782|\n",
      "| [TX, CA]|    4534| 32.11128456735058|\n",
      "| [CA, NV]|    4325| 19.45985571328834|\n",
      "| [NV, CA]|    4302|24.096932802622337|\n",
      "| [FL, TX]|    3409| 32.29871680095494|\n",
      "| [TX, FL]|    3407|29.828426999702646|\n",
      "| [CO, CA]|    3237| 32.05505443234836|\n",
      "| [CA, CO]|    3223| 26.26595744680851|\n",
      "| [FL, FL]|    2893|25.934123387940048|\n",
      "| [LA, TX]|    2706| 38.19619047619047|\n",
      "| [TX, LA]|    2701|31.573720397249808|\n",
      "| [WA, CA]|    2566| 23.79161770466118|\n",
      "| [CA, WA]|    2562|25.266036993309722|\n",
      "| [GA, TX]|    2496|31.738192182410423|\n",
      "| [TX, GA]|    2495|31.678585940674523|\n",
      "| [TX, CO]|    2301| 32.90339655932951|\n",
      "| [CO, TX]|    2276| 36.98578409595735|\n",
      "| [FL, NC]|    2275|23.935312361541868|\n",
      "| [NC, FL]|    2270|26.497340425531913|\n",
      "| [GA, NC]|    2221|26.376884422110553|\n",
      "| [NC, GA]|    2221|28.499086757990867|\n",
      "| [CA, IL]|    2155| 29.98687910028116|\n",
      "| [IL, CA]|    2134| 35.14895635673624|\n",
      "| [IL, TX]|    2111| 40.81032818532819|\n",
      "| [TX, IL]|    2081| 36.20723362658847|\n",
      "| [CA, UT]|    2000|30.645628556647697|\n",
      "| [MI, MI]|    1998| 39.59012086179716|\n",
      "| [VA, GA]|    1990| 30.21516393442623|\n",
      "| [GA, VA]|    1987| 27.67079463364293|\n",
      "| [UT, CA]|    1972| 37.03224128965159|\n",
      "| [AK, AK]|    1965| 32.97317201472909|\n",
      "| [OR, CA]|    1958|27.247401247401246|\n",
      "| [CA, OR]|    1958|  27.8187012987013|\n",
      "| [IL, FL]|    1940|        31.0109375|\n",
      "| [FL, IL]|    1927|31.086523335081278|\n",
      "| [AZ, TX]|    1901|21.714361420243772|\n",
      "| [TX, AZ]|    1895| 26.85790313996807|\n",
      "| [NY, IL]|    1886|41.596730245231605|\n",
      "| [FL, VA]|    1885|28.565845824411134|\n",
      "| [IL, NY]|    1882| 44.96941561987985|\n",
      "| [CA, NY]|    1875|29.170155662909288|\n",
      "| [NY, CA]|    1875|30.288853161843516|\n",
      "| [VA, FL]|    1866|  27.5822102425876|\n",
      "| [FL, PA]|    1803|30.047406581148913|\n",
      "| [PA, FL]|    1801| 30.42506963788301|\n",
      "| [MO, TX]|    1773|31.936023054755044|\n",
      "| [NY, GA]|    1750| 28.96259497369959|\n",
      "| [FL, NJ]|    1749| 39.86946520989074|\n",
      "| [GA, NY]|    1747| 33.26374269005848|\n",
      "| [NJ, FL]|    1746| 36.66129032258065|\n",
      "| [TX, MO]|    1737| 28.82788798133022|\n",
      "| [MI, IL]|    1735|  45.0950956937799|\n",
      "| [CO, CO]|    1709| 33.42691131498471|\n",
      "| [GA, GA]|    1682|26.656004828002413|\n",
      "| [IL, MI]|    1676|43.980887792848335|\n",
      "| [CA, HI]|    1675| 32.99819277108434|\n",
      "| [HI, CA]|    1674| 34.46325301204819|\n",
      "| [TX, OK]|    1534|30.176979374584164|\n",
      "| [OK, TX]|    1532|30.332221480987325|\n",
      "| [OH, IL]|    1522| 42.48690396239087|\n",
      "| [NY, NC]|    1521|33.664406779661014|\n",
      "| [NC, NY]|    1519| 40.68991198375085|\n",
      "| [IL, OH]|    1496| 41.90518417462483|\n",
      "| [GA, IL]|    1478| 35.94436813186813|\n",
      "| [IL, GA]|    1467|  35.4683808200139|\n",
      "| [PA, IL]|    1413|40.453429602888086|\n",
      "| [GA, TN]|    1395|26.508351488743646|\n",
      "| [MI, NY]|    1395| 39.82857142857143|\n",
      "| [NY, MI]|    1394|33.393406593406596|\n",
      "| [TN, GA]|    1392| 30.66054371785452|\n",
      "| [NY, VA]|    1379| 37.76568405139834|\n",
      "| [IL, PA]|    1377| 42.20029563932003|\n",
      "| [VA, NY]|    1358|  42.6481909160893|\n",
      "| [TX, NC]|    1348| 29.62566438876234|\n",
      "| [NC, TX]|    1346|  33.4309559939302|\n",
      "| [MD, FL]|    1315|26.141113653699467|\n",
      "| [FL, MD]|    1314| 22.64992389649924|\n",
      "| [MO, IL]|    1284| 36.39161392405063|\n",
      "| [IL, MO]|    1276|33.422011084718925|\n",
      "| [TX, TN]|    1271| 32.98945660989457|\n",
      "| [NC, VA]|    1258|29.131751227495908|\n",
      "| [TN, TX]|    1242|35.142975893599335|\n",
      "| [VA, NC]|    1227| 33.23218776194468|\n",
      "| [VA, TX]|    1213| 35.06399317406143|\n",
      "| [TX, VA]|    1213| 32.58184902459712|\n",
      "| [NV, TX]|    1195| 26.89234650967199|\n",
      "| [TX, NV]|    1192|29.104553119730184|\n",
      "| [FL, MA]|    1191| 35.84117647058824|\n",
      "| [MA, FL]|    1191|27.984020185029436|\n",
      "| [IL, VA]|    1186|38.041486603284355|\n",
      "| [NY, NY]|    1179|  39.8412017167382|\n",
      "| [AZ, AZ]|    1178|22.646048109965637|\n",
      "| [VA, IL]|    1165| 34.18964003511852|\n",
      "| [GA, PA]|    1151| 34.14863676341249|\n",
      "| [PA, GA]|    1149|32.214854111405835|\n",
      "| [LA, GA]|    1137|31.159928122192273|\n",
      "| [GA, LA]|    1135|26.690712353471596|\n",
      "| [IL, MN]|    1097| 34.53151458137347|\n",
      "| [FL, MI]|    1095| 26.59908256880734|\n",
      "| [MI, FL]|    1094|26.161616161616163|\n",
      "| [MN, IL]|    1092| 38.13718070009461|\n",
      "| [CO, IL]|    1087|35.541784037558685|\n",
      "| [IL, CO]|    1080|39.653521126760566|\n",
      "| [AR, TX]|    1076| 44.74007561436673|\n",
      "| [TX, AR]|    1075|30.195445920303605|\n",
      "| [AL, GA]|    1064| 33.04218600191754|\n",
      "| [GA, AL]|    1064|27.655172413793103|\n",
      "| [CO, AZ]|    1058| 28.90494296577947|\n",
      "| [MN, MN]|    1037|31.023883696780892|\n",
      "| [AZ, CO]|    1030|22.775828460038987|\n",
      "| [WI, IL]|    1009|48.684378320935174|\n",
      "| [IL, WI]|    1005| 43.13276231263383|\n",
      "| [IL, NC]|    1002| 40.14969450101833|\n",
      "| [GA, OH]|     997|25.079396984924625|\n",
      "| [OH, GA]|     997|28.143001007049346|\n",
      "| [TN, IL]|     995|  41.5262076053443|\n",
      "| [PR, FL]|     991| 35.97669706180344|\n",
      "| [FL, PR]|     988|27.651422764227643|\n",
      "| [IL, TN]|     980|45.152241918665275|\n",
      "| [VA, CA]|     975| 34.70217166494312|\n",
      "| [NY, TX]|     961|37.994499449944996|\n",
      "| [TX, NY]|     961| 43.13807982740022|\n",
      "| [NC, IL]|     960|35.754777070063696|\n",
      "| [MA, VA]|     957|26.553439153439154|\n",
      "| [FL, CA]|     952|37.949313621964095|\n",
      "| [CA, FL]|     950|25.244725738396625|\n",
      "| [CA, GA]|     944|22.591684434968016|\n",
      "| [AZ, NV]|     943|20.596808510638297|\n",
      "| [NV, AZ]|     942| 23.12913553895411|\n",
      "| [GA, CA]|     941| 28.56595744680851|\n",
      "| [IL, IL]|     934|53.292792792792795|\n",
      "| [VA, MA]|     933|29.567391304347826|\n",
      "| [CA, VA]|     922|25.739890710382515|\n",
      "| [PA, TX]|     908| 34.48268156424581|\n",
      "| [FL, OH]|     908| 25.61946902654867|\n",
      "| [TX, PA]|     908| 37.68743047830923|\n",
      "| [OH, FL]|     907|27.187153931339978|\n",
      "| [NC, NC]|     901| 27.50736126840317|\n",
      "| [MN, WI]|     890|29.323220536756125|\n",
      "| [NY, MA]|     888| 29.64924506387921|\n",
      "| [MA, NY]|     887|31.738372093023255|\n",
      "| [GA, SC]|     886|26.664759725400458|\n",
      "| [SC, GA]|     880|28.153049482163407|\n",
      "| [NC, PA]|     871| 28.53828306264501|\n",
      "| [WI, MN]|     864|37.289855072463766|\n",
      "| [AL, TX]|     861| 37.39476813317479|\n",
      "| [TX, AL]|     858| 37.80119760479042|\n",
      "| [PA, NC]|     850| 30.92464114832536|\n",
      "| [TX, NM]|     837| 30.45929526123937|\n",
      "| [NM, TX]|     837| 27.55799755799756|\n",
      "| [MO, GA]|     828| 32.42387332521316|\n",
      "| [GA, MO]|     827|28.725728155339805|\n",
      "| [NJ, TX]|     778| 33.86184210526316|\n",
      "| [TX, NJ]|     777| 45.89064558629776|\n",
      "| [UT, CO]|     768| 41.36884154460719|\n",
      "| [MI, TX]|     764| 43.62849533954727|\n",
      "| [TX, MI]|     763| 35.94117647058823|\n",
      "| [KY, IL]|     752| 43.69060773480663|\n",
      "| [CO, UT]|     737| 34.31372549019608|\n",
      "| [FL, TN]|     706|20.802275960170697|\n",
      "| [IL, KY]|     698|47.507440476190474|\n",
      "| [TN, FL]|     697|25.315028901734102|\n",
      "| [PA, MI]|     696|  38.1887072808321|\n",
      "| [MI, PA]|     694|42.364583333333336|\n",
      "| [WI, MI]|     693|44.070570570570574|\n",
      "| [CO, FL]|     683|28.508076358296623|\n",
      "| [FL, CO]|     682|31.002936857562407|\n",
      "| [TX, KY]|     678| 34.76311844077961|\n",
      "| [NJ, IL]|     676| 38.42089093701997|\n",
      "| [IL, NJ]|     674| 46.31240428790199|\n",
      "| [OH, TX]|     671|36.624420401854714|\n",
      "| [TX, OH]|     671| 36.28636363636364|\n",
      "| [AZ, IL]|     670|30.642105263157895|\n",
      "| [IL, AZ]|     670|33.288288288288285|\n",
      "| [MI, WI]|     669| 30.75705329153605|\n",
      "| [TX, MS]|     664|30.017054263565893|\n",
      "| [IL, IA]|     664|39.619273301737756|\n",
      "| [MS, TX]|     663|41.088509316770185|\n",
      "| [MI, GA]|     661|27.086363636363636|\n",
      "| [GA, MI]|     660| 23.03030303030303|\n",
      "| [NC, NJ]|     658| 54.69387755102041|\n",
      "| [KY, TX]|     656| 39.15576323987539|\n",
      "| [GA, KY]|     653|24.545595054095827|\n",
      "| [MT, UT]|     651| 33.53311793214863|\n",
      "| [UT, MT]|     649| 31.96590909090909|\n",
      "| [KY, GA]|     649| 25.10108864696734|\n",
      "| [ND, MN]|     646|38.287519747235386|\n",
      "| [MN, ND]|     644|27.562009419152275|\n",
      "| [NJ, NC]|     637| 47.55772357723577|\n",
      "| [IA, IL]|     636| 45.82372322899506|\n",
      "| [TX, MN]|     636|42.351524879614765|\n",
      "+---------+--------+------------------+\n",
      "only showing top 200 rows\n",
      "\n"
     ]
    }
   ],
   "source": [
    "#When you want to group using multiple columns, you need paranthesis\n",
    "sqlCtx.sql(\"select (OriginState, DestState) as StatePair, \\\n",
    "                count(*), avg(abs(DepDelay)+abs(ArrDelay)) as avgDelay \\\n",
    "            from flights group by (OriginState, DestState) order by count(*) desc\").show(200)"
   ]
  },
  {
   "cell_type": "markdown",
   "metadata": {},
   "source": [
    "## Find destinations with at least one cancellation at every day of the month"
   ]
  },
  {
   "cell_type": "code",
   "execution_count": 35,
   "metadata": {
    "scrolled": false
   },
   "outputs": [
    {
     "name": "stdout",
     "output_type": "stream",
     "text": [
      "+----+\n",
      "|Dest|\n",
      "+----+\n",
      "| IAH|\n",
      "| DFW|\n",
      "| SFO|\n",
      "| ORD|\n",
      "+----+\n",
      "\n"
     ]
    }
   ],
   "source": [
    "#The problem in the tutorial was, I forgot one criteria in the inner loop, misleading me while preparing the question.\n",
    "#There is no destination with at least 500 cancellations in each day of the month!\n",
    "sqlCtx.sql(\"select distinct Dest from flights f \\\n",
    "            where (select count(*) from \\\n",
    "                    (select DayOfMonth from flights f2 \\\n",
    "                        where f2.Dest = f.Dest and cancelled>0 \\\n",
    "                        group by DayOfMonth having count(*) >= 1\\\n",
    "                    )\\\n",
    "                   ) = 31\").show(200)\n",
    "#In the outer loop, we pick one destination.\n",
    "#In the inner loop, we find all cancelled flights going to that destination, group by dayofmonth and\n",
    "#count the number of rows. It the result is 31, we were able to find at least one cancelled flight in\n",
    "#each day of the month."
   ]
  },
  {
   "cell_type": "markdown",
   "metadata": {},
   "source": [
    "## For every airport in California, print :\n",
    "    \n",
    "## LOW TRAFFIC if flight count < 500\n",
    "## DESCENT TRAFFIC if < 2000\n",
    "## HIGH TRAFFIC otherwise"
   ]
  },
  {
   "cell_type": "code",
   "execution_count": 36,
   "metadata": {
    "scrolled": true
   },
   "outputs": [
    {
     "name": "stdout",
     "output_type": "stream",
     "text": [
      "+------+--------+---------------+\n",
      "|Origin|count(1)|   TrafficLevel|\n",
      "+------+--------+---------------+\n",
      "|   SNA|    3355|   HIGH TRAFFIC|\n",
      "|   BUR|    2051|   HIGH TRAFFIC|\n",
      "|   OAK|    3562|   HIGH TRAFFIC|\n",
      "|   MOD|      92|    LOW TRAFFIC|\n",
      "|   CEC|      85|    LOW TRAFFIC|\n",
      "|   SJC|    3156|   HIGH TRAFFIC|\n",
      "|   RDD|      96|    LOW TRAFFIC|\n",
      "|   LGB|    1083|DESCENT TRAFFIC|\n",
      "|   BFL|     307|    LOW TRAFFIC|\n",
      "|   IPL|      62|    LOW TRAFFIC|\n",
      "|   PSP|    1127|DESCENT TRAFFIC|\n",
      "|   SBA|     917|DESCENT TRAFFIC|\n",
      "|   IYK|      61|    LOW TRAFFIC|\n",
      "|   CIC|      93|    LOW TRAFFIC|\n",
      "|   ACV|     264|    LOW TRAFFIC|\n",
      "|   MRY|     481|    LOW TRAFFIC|\n",
      "|   SMF|    3435|   HIGH TRAFFIC|\n",
      "|   MMH|      96|    LOW TRAFFIC|\n",
      "|   SFO|   13218|   HIGH TRAFFIC|\n",
      "|   FAT|     928|DESCENT TRAFFIC|\n",
      "|   SMX|     107|    LOW TRAFFIC|\n",
      "|   ONT|    1773|DESCENT TRAFFIC|\n",
      "|   LAX|   17563|   HIGH TRAFFIC|\n",
      "|   SAN|    6123|   HIGH TRAFFIC|\n",
      "|   SBP|     400|    LOW TRAFFIC|\n",
      "|   CLD|     229|    LOW TRAFFIC|\n",
      "+------+--------+---------------+\n",
      "\n"
     ]
    }
   ],
   "source": [
    "sqlCtx.sql(\"select Origin, count(*), \\\n",
    "                case when count(*) < '500' then 'LOW TRAFFIC' \\\n",
    "                when count(*) < 2000 then 'DESCENT TRAFFIC' \\\n",
    "                else 'HIGH TRAFFIC' end as TrafficLevel \\\n",
    "            from flights where OriginState = 'CA' \\\n",
    "            group By Origin\").show(50)\n",
    "#First we filter the originstate as CALIFORNIA, and group using the airport code.\n",
    "#The 3rd column is constructed depending on the number of flights for each group(airport)"
   ]
  },
  {
   "cell_type": "markdown",
   "metadata": {},
   "source": [
    "## Find number of flights of the airports having flights to the airports with the least number of outgoing flights"
   ]
  },
  {
   "cell_type": "code",
   "execution_count": 39,
   "metadata": {
    "scrolled": true
   },
   "outputs": [
    {
     "name": "stdout",
     "output_type": "stream",
     "text": [
      "+------+--------+\n",
      "|Origin|count(1)|\n",
      "+------+--------+\n",
      "|   HNL|    4388|\n",
      "|   DEN|   17850|\n",
      "|   ANC|    1228|\n",
      "+------+--------+\n",
      "\n"
     ]
    }
   ],
   "source": [
    "#The first step is finding the airports with the least number of flights\n",
    "#By using that list, you can filter the flights, going to those destinations\n",
    "#The most inner loop finds the minimum number of flights from ANY airport, let call it X\n",
    "#One outer loop finds the airports with X many flights, let call the list L\n",
    "#Second outer loop finds the list of airports where the destination is in the list L. Lets call this list M\n",
    "#The most outer loop finds the number of flights for the airports in list M\n",
    "sqlCtx.sql(\"select Origin, count(*) from flights f1 \\\n",
    "            where f1.Origin IN \\\n",
    "                (select f2.Origin from flights f2 \\\n",
    "                where f2.Dest IN \\\n",
    "                    (select Origin from flights f3 \\\n",
    "                        group by Origin \\\n",
    "                        having count(*) = \\\n",
    "                            (select min(c) from \\\n",
    "                                (select count(*) as c from flights f4 \\\n",
    "                                group by Origin)\\\n",
    "                            )\\\n",
    "                    )\\\n",
    "                ) group by Origin\").show()"
   ]
  },
  {
   "cell_type": "code",
   "execution_count": null,
   "metadata": {},
   "outputs": [],
   "source": []
  }
 ],
 "metadata": {
  "kernelspec": {
   "display_name": "Python 3",
   "language": "python",
   "name": "python3"
  },
  "language_info": {
   "codemirror_mode": {
    "name": "ipython",
    "version": 3
   },
   "file_extension": ".py",
   "mimetype": "text/x-python",
   "name": "python",
   "nbconvert_exporter": "python",
   "pygments_lexer": "ipython3",
   "version": "3.7.0"
  }
 },
 "nbformat": 4,
 "nbformat_minor": 2
}
