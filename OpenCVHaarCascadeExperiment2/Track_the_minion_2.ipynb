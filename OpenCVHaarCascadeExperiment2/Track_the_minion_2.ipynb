{
 "cells": [
  {
   "cell_type": "markdown",
   "metadata": {},
   "source": [
    "#### The code below was tested on Python 3.6.7, Numpy 1.15.4, OpenCV 3.4.2"
   ]
  },
  {
   "cell_type": "code",
   "execution_count": 2,
   "metadata": {},
   "outputs": [
    {
     "name": "stdout",
     "output_type": "stream",
     "text": [
      "3.6.7 |Anaconda, Inc.| (default, Oct 23 2018, 14:01:38) \n",
      "[GCC 4.2.1 Compatible Clang 4.0.1 (tags/RELEASE_401/final)]\n",
      "1.15.4\n",
      "3.4.2\n"
     ]
    }
   ],
   "source": [
    "import sys\n",
    "print(sys.version)\n",
    "import numpy as np\n",
    "print(np.version.version)\n",
    "import cv2\n",
    "print(cv2.__version__)"
   ]
  },
  {
   "cell_type": "markdown",
   "metadata": {},
   "source": [
    "#### Step 1: Collect 'negative or 'background images, where the target object is not present."
   ]
  },
  {
   "cell_type": "markdown",
   "metadata": {},
   "source": [
    "Generally a bg.txt file that contains the path to each image, by line."
   ]
  },
  {
   "cell_type": "markdown",
   "metadata": {},
   "source": [
    "example:<br>\n",
    "    neg/1.jpg<br>\n",
    "    neg/2.jpg"
   ]
  },
  {
   "cell_type": "markdown",
   "metadata": {},
   "source": [
    "#### Step 2: Collect 'positive' images, where the target object is present"
   ]
  },
  {
   "cell_type": "markdown",
   "metadata": {},
   "source": [
    "Generally a pos.txt file that contains the path to each image, by line; along with how many objects, and where they are located in the image (x, y, width, height)."
   ]
  },
  {
   "cell_type": "markdown",
   "metadata": {},
   "source": [
    "Example:\n",
    "pos/1.jpg 1 0 0 50 50\n",
    "pos/2.jpg 1 0 0 50 50"
   ]
  },
  {
   "cell_type": "markdown",
   "metadata": {},
   "source": [
    "Generally negative images should be larger than positive images. Ie 100X100 for negatives, and 50X50 for positives."
   ]
  },
  {
   "cell_type": "markdown",
   "metadata": {},
   "source": [
    "#### Step 3: Create a positive vector file by stitching together all positive images, using an OpenCV command."
   ]
  },
  {
   "cell_type": "markdown",
   "metadata": {},
   "source": [
    "#### Step 4: Train cascade using an OpenCV command."
   ]
  },
  {
   "cell_type": "code",
   "execution_count": 1,
   "metadata": {},
   "outputs": [],
   "source": [
    "import urllib.request\n",
    "import numpy as np\n",
    "import cv2\n",
    "import os"
   ]
  },
  {
   "cell_type": "markdown",
   "metadata": {},
   "source": [
    "## Collect negative & positive images"
   ]
  },
  {
   "cell_type": "markdown",
   "metadata": {},
   "source": [
    "Replace the image collection link below, and update the pic_num. pic_num is the starting filename number for image scrapped. I repeated this process for different links several times to get 2100 negative samples. Note: if you forget to change the pic_num, it will replace the image you already have in the directory."
   ]
  },
  {
   "cell_type": "code",
   "execution_count": null,
   "metadata": {
    "scrolled": true
   },
   "outputs": [],
   "source": [
    "def store_raw_images():\n",
    "    \"\"\"Scrape a given link that contains links to images, save to neg folder and resize.\"\"\"\n",
    "    \n",
    "    neg_images_link = 'http://www.image-net.org/api/text/imagenet.synset.geturls?wnid=n00015388'\n",
    "    neg_image_urls = urllib.request.urlopen(neg_images_link).read().decode()\n",
    "    \n",
    "    if not os.path.exists('neg'):\n",
    "        os.makedirs('neg')\n",
    "    \n",
    "    pic_num = 1615 # starting number for naming image files\n",
    "    \n",
    "    for i in neg_image_urls.split('\\n'):\n",
    "        try: \n",
    "            #print(i)\n",
    "            filepath = 'neg/'+str(pic_num)+'.jpg'\n",
    "            urllib.request.urlretrieve(i, filepath)\n",
    "            img = cv2.imread(filepath, cv2.IMREAD_GRAYSCALE)\n",
    "            resized_image = cv2.resize(img, (100,100))\n",
    "            cv2.imwrite(filepath, resized_image)\n",
    "            pic_num += 1\n",
    "            \n",
    "        except Exception as e:\n",
    "            print(str(e))\n",
    "            \n",
    "store_raw_images()\n",
    "    "
   ]
  },
  {
   "cell_type": "markdown",
   "metadata": {},
   "source": [
    "#### Resize and turn positive images to grayscale (if needed)"
   ]
  },
  {
   "cell_type": "code",
   "execution_count": null,
   "metadata": {
    "scrolled": true
   },
   "outputs": [],
   "source": [
    "for img_name in os.listdir('pos'):\n",
    "    img_path = 'pos' + '/' + img_name\n",
    "    img = cv2.imread(img_path, cv2.IMREAD_GRAYSCALE)\n",
    "    try: \n",
    "        resized_img = cv2.resize(img, (50,50))\n",
    "        cv2.imwrite(img_path, resized_img)\n",
    "    except Exception as e:\n",
    "        print(str(e))"
   ]
  },
  {
   "cell_type": "markdown",
   "metadata": {},
   "source": [
    "## Remove unwanted images (if applicable)"
   ]
  },
  {
   "cell_type": "code",
   "execution_count": null,
   "metadata": {},
   "outputs": [],
   "source": [
    "def exclude():\n",
    "    \"\"\"Remove images that are exact copies of ones in the 'exclude' folder from the 'neg' and 'pos' folders \"\"\"\n",
    "\n",
    "    for folder_path in ['neg']:\n",
    "        \n",
    "        for img_name in os.listdir(folder_path):\n",
    "            # the image to be checked\n",
    "            image_path = str(folder_path) + '/' + str(img_name)\n",
    "            \n",
    "            for excluded_img_name in os.listdir('exclude'):\n",
    "                # the image template for exclusion\n",
    "                exclude_img_path = 'exclude/' + str(excluded_img_name)\n",
    "                \n",
    "                try: \n",
    "                    image = cv2.imread(image_path)\n",
    "                    excluded_img = cv2.imread(exclude_img_path)\n",
    "                    \n",
    "                    if image.shape == excluded_img.shape and not(np.bitwise_xor(image, excluded_img).any()):\n",
    "                        os.remove(image_path)\n",
    "                        print('removed ' + image_path)\n",
    "\n",
    "                except Exception as e:\n",
    "                    print(str(e))\n",
    "\n",
    "exclude()"
   ]
  },
  {
   "cell_type": "code",
   "execution_count": null,
   "metadata": {},
   "outputs": [],
   "source": [
    "def create_pos_n_neg():\n",
    "    \"\"\"Creates the files with path directory and descriptions for positive and negative images.\"\"\"\n",
    "    \n",
    "    for folder_path in ['neg']:\n",
    "        \n",
    "        for img_name in os.listdir(folder_path):\n",
    "            \n",
    "            if folder_path == 'neg':\n",
    "                line = folder_path +'/' + img_name + '\\n'\n",
    "                with open('bg.txt', 'a') as f:\n",
    "                    f.write(line)\n",
    "                    \n",
    "            elif folder_path == 'pos':\n",
    "                line = folder_path + '/' + img_name + '1 0 0 50 50\\n'\n",
    "                with open ('info.dat', 'a') as f:\n",
    "                    f.write(line)\n",
    "                    \n",
    "create_pos_n_neg()"
   ]
  },
  {
   "cell_type": "markdown",
   "metadata": {},
   "source": [
    "## Generate additional samples for each true sample image provided"
   ]
  },
  {
   "cell_type": "markdown",
   "metadata": {},
   "source": [
    "In this step, we want to create a set of positive samples for each positive image given. To create one such set, the command is as the following:\n",
    "\n",
    "opencv_createsamples -img ./pos/sample1.jpg -bg bg.txt -info info/info1/info.lst -pngoutput info -maxxangle 0.6 -maxyangle -0.6 -maxzangle 0.6 -num 2100\n",
    "\n",
    "Therefore, we can run this command for each positive image given in a loop."
   ]
  },
  {
   "cell_type": "code",
   "execution_count": 5,
   "metadata": {},
   "outputs": [],
   "source": [
    "pos_folder_path = 'pos'\n",
    "info_folder_path = 'info'\n",
    "num_samples = 2100"
   ]
  },
  {
   "cell_type": "code",
   "execution_count": null,
   "metadata": {},
   "outputs": [],
   "source": [
    "for img_name in os.listdir(pos_folder_path):\n",
    "    \n",
    "    if not img_name.startswith('.'):       # ignores hidden system file that starts with a dot\n",
    "        \n",
    "        pos_img_path = './' + pos_folder_path + '/' + img_name\n",
    "        output_img_path = info_folder_path + '/' + img_name.split('.')[0] + '/'\n",
    "        info_path = output_img_path + 'info.lst'\n",
    "        command = 'opencv_createsamples -img ' + pos_img_path + ' -bg bg.txt -info ' + info_path + ' -pngoutput info -maxxangle 0.6 -maxyangle -0.6 -maxzangle 0.6 -num ' + str(num_samples)\n",
    "        print(command)\n",
    "        os.system(command)\n"
   ]
  },
  {
   "cell_type": "markdown",
   "metadata": {},
   "source": [
    "Each time the command above was ran, an info file was generated (for each true positive sample). Now we need to combine them into a single info file."
   ]
  },
  {
   "cell_type": "markdown",
   "metadata": {},
   "source": [
    "## Create collection file for all generated positive samples"
   ]
  },
  {
   "cell_type": "code",
   "execution_count": 6,
   "metadata": {},
   "outputs": [],
   "source": [
    "from collections import namedtuple\n",
    "info = namedtuple('info', ['info_path', 'folder_path'])\n",
    "master_info_path = 'info.lst'"
   ]
  },
  {
   "cell_type": "markdown",
   "metadata": {},
   "source": [
    "Create a list of namedtuples which contains (info file path, the folder that the info file resides):"
   ]
  },
  {
   "cell_type": "code",
   "execution_count": null,
   "metadata": {},
   "outputs": [],
   "source": [
    "info_list = list()\n",
    "for folder in os.listdir(info_folder_path):\n",
    "    if not folder.startswith('.'):     # ignores hidden system files which starts with dot\n",
    "        folder_path = info_folder_path + '/' + folder + '/'\n",
    "        \n",
    "        for file in os.listdir(folder_path):\n",
    "            if file.endswith('.lst'):\n",
    "                info_path = folder_path + file\n",
    "                info_list.append(info(info_path, folder_path))"
   ]
  },
  {
   "cell_type": "markdown",
   "metadata": {},
   "source": [
    "Read each info file, append its content to a master info file amending absolute file paths:"
   ]
  },
  {
   "cell_type": "code",
   "execution_count": 93,
   "metadata": {},
   "outputs": [],
   "source": [
    "for info in info_list:\n",
    "    \n",
    "    with open(info.info_path, 'r') as fhand:\n",
    "        lines = np.array(fhand.readlines())\n",
    "        \n",
    "    new_lines = np.core.defchararray.add(info.folder_path, lines)\n",
    "    \n",
    "    with open(master_info_path, 'a') as fhand:\n",
    "        for item in new_lines:\n",
    "            fhand.write(item)"
   ]
  },
  {
   "cell_type": "markdown",
   "metadata": {},
   "source": [
    "## Create the vector file by running the following command"
   ]
  },
  {
   "cell_type": "markdown",
   "metadata": {},
   "source": [
    "opencv_createsamples -info info/info.lst -num 2100 -w 20 -h 20 -vec positives.vec"
   ]
  },
  {
   "cell_type": "markdown",
   "metadata": {},
   "source": [
    "The parameters are as the following:\n",
    "- -info where the info list is located\n",
    "- -num number of vector items\n",
    "- -w width\n",
    "- -h height\n",
    "- -vec output vector file\n",
    "\n",
    "The width and height is the detection area, the larger the slower it would be to train. 20 is an average size used."
   ]
  },
  {
   "cell_type": "code",
   "execution_count": 7,
   "metadata": {},
   "outputs": [
    {
     "data": {
      "text/plain": [
       "0"
      ]
     },
     "execution_count": 7,
     "metadata": {},
     "output_type": "execute_result"
    }
   ],
   "source": [
    "with open(master_info_path, 'r') as fhand:\n",
    "    num_samples = len(fhand.readlines())\n",
    "\n",
    "os.system('opencv_createsamples -info ' + master_info_path + ' -num ' + str(num_samples) + ' -w 20 -h 20 -vec positives.vec')"
   ]
  },
  {
   "cell_type": "markdown",
   "metadata": {},
   "source": [
    "## Training the model"
   ]
  },
  {
   "cell_type": "markdown",
   "metadata": {},
   "source": [
    "#### Run the following command in terminal"
   ]
  },
  {
   "cell_type": "markdown",
   "metadata": {},
   "source": [
    "opencv_traincascade -data data -vec positives.vec -bg bg.txt -numPos 1800 -numNeg 900 -numStages 10 -w 20 -h 20\n",
    "\n",
    "The parameters are as the following:\n",
    "    \n",
    "- -data\n",
    "- -vec : vector filename\n",
    "- -bg : background (negative) text file of image paths\n",
    "- -numPos : the number to be reached before going to the next stage, it should be no more than 0.9* number of positive samples\n",
    "- -numNeg : typically half of number of negative samples\n",
    "- -numStages : 10\n",
    "- -w : 20\n",
    "- -h : 20"
   ]
  },
  {
   "cell_type": "markdown",
   "metadata": {},
   "source": [
    "Alternatively, use the 'nohup' and '&' to wrap around the command, so that it will run in the background, and can be stopped and resumed later if needed:"
   ]
  },
  {
   "cell_type": "markdown",
   "metadata": {},
   "source": [
    "nohup opencv_traincascade -data data -vec positives.vec -bg bg.txt -numPos 900 -numNeg 500 -numStages 10 -w 20 -h 20 &"
   ]
  },
  {
   "cell_type": "code",
   "execution_count": 8,
   "metadata": {},
   "outputs": [
    {
     "data": {
      "text/plain": [
       "0"
      ]
     },
     "execution_count": 8,
     "metadata": {},
     "output_type": "execute_result"
    }
   ],
   "source": [
    "num_pos = 0.5 * num_samples\n",
    "num_neg = 1000\n",
    "\n",
    "if not os.path.exists('data'):\n",
    "        os.makedirs('data')\n",
    "        \n",
    "os.system('opencv_traincascade -data data -vec positives.vec -bg bg.txt -numPos ' + str(num_pos) + ' -numNeg ' + str(num_neg) + ' -numStages 10 -w 20 -h 20')\n",
    "# os.system('nohup opencv_traincascade -data data -vec positives.vec -bg bg.txt -numPos ' + str(num_pos) + ' -numNeg ' + str(num_neg) + ' -numStages 10 -w 20 -h 20 &')\n",
    "\n"
   ]
  },
  {
   "cell_type": "markdown",
   "metadata": {},
   "source": [
    "## Run"
   ]
  },
  {
   "cell_type": "code",
   "execution_count": 1,
   "metadata": {},
   "outputs": [],
   "source": [
    "import numpy as np\n",
    "import cv2\n",
    "minion_cascade = cv2.CascadeClassifier('./data/cascade.xml')"
   ]
  },
  {
   "cell_type": "code",
   "execution_count": 2,
   "metadata": {},
   "outputs": [
    {
     "data": {
      "text/plain": [
       "-1"
      ]
     },
     "execution_count": 2,
     "metadata": {},
     "output_type": "execute_result"
    }
   ],
   "source": [
    "cap = cv2.VideoCapture(0)\n",
    "\n",
    "while True:\n",
    "    ret, img = cap.read()\n",
    "    gray = cv2.cvtColor(img, cv2.COLOR_BGR2GRAY)\n",
    "    minions = minion_cascade.detectMultiScale(gray, scaleFactor=5, minNeighbors=15)\n",
    "    \n",
    "    for (x,y,w,h) in minions:\n",
    "        cv2.rectangle(img, (x,y), (x+w, y+h), (255,255,0), 2)\n",
    "        \n",
    "    cv2.imshow('img', img)\n",
    "    k = cv2.waitKey(30) & 0xff\n",
    "    if k == 27:\n",
    "        break\n",
    "        \n",
    "cap.release()\n",
    "cv2.destroyAllWindows()\n",
    "cv2.waitKey(1)\n"
   ]
  },
  {
   "cell_type": "markdown",
   "metadata": {},
   "source": [
    "Notes: There seems to be a bug with OpenCV running in Jupyter Notebook, cv2.imshow() causes the program to hang. The last line 'cv2.waitKey(1)' somehow bypasses it and allows the cv2.imshow() to work. Even so, you still need to restart the kernel after stopping the run."
   ]
  },
  {
   "cell_type": "markdown",
   "metadata": {},
   "source": [
    "#### Restart kernel"
   ]
  },
  {
   "cell_type": "code",
   "execution_count": 3,
   "metadata": {},
   "outputs": [
    {
     "data": {
      "text/plain": [
       "{'status': 'ok', 'restart': True}"
      ]
     },
     "execution_count": 3,
     "metadata": {},
     "output_type": "execute_result"
    }
   ],
   "source": [
    "import IPython\n",
    "app = IPython.Application.instance()\n",
    "app.kernel.do_shutdown(True)"
   ]
  },
  {
   "cell_type": "code",
   "execution_count": null,
   "metadata": {},
   "outputs": [],
   "source": []
  }
 ],
 "metadata": {
  "kernelspec": {
   "display_name": "Python 3",
   "language": "python",
   "name": "python3"
  },
  "language_info": {
   "codemirror_mode": {
    "name": "ipython",
    "version": 3
   },
   "file_extension": ".py",
   "mimetype": "text/x-python",
   "name": "python",
   "nbconvert_exporter": "python",
   "pygments_lexer": "ipython3",
   "version": "3.6.7"
  },
  "varInspector": {
   "cols": {
    "lenName": 16,
    "lenType": 16,
    "lenVar": 40
   },
   "kernels_config": {
    "python": {
     "delete_cmd_postfix": "",
     "delete_cmd_prefix": "del ",
     "library": "var_list.py",
     "varRefreshCmd": "print(var_dic_list())"
    },
    "r": {
     "delete_cmd_postfix": ") ",
     "delete_cmd_prefix": "rm(",
     "library": "var_list.r",
     "varRefreshCmd": "cat(var_dic_list()) "
    }
   },
   "types_to_exclude": [
    "module",
    "function",
    "builtin_function_or_method",
    "instance",
    "_Feature"
   ],
   "window_display": false
  }
 },
 "nbformat": 4,
 "nbformat_minor": 2
}
