{
 "cells": [
  {
   "cell_type": "code",
   "execution_count": null,
   "metadata": {},
   "outputs": [],
   "source": [
    "import random\n",
    "from pathlib import Path\n",
    "import thinc.extra.datasets\n",
    "\n",
    "import spacy\n",
    "from spacy.util import minibatch, compounding"
   ]
  },
  {
   "cell_type": "code",
   "execution_count": null,
   "metadata": {},
   "outputs": [],
   "source": [
    "\n",
    "def train(train_data, test_data, model=None, output_dir=None, n_iter=10, init_tok2vec=None):\n",
    "    '''\n",
    "    train_data: training data, in the form of (train_texts [string], train_labels [{'class': bool}])\n",
    "    test_data: test data, in the form of (val_texts [string], val_labels [{'class': bool}])\n",
    "    model: Spacy model name, default to None for blank model.\n",
    "    output_dir: directory to save trained model. Default to None to not save model.\n",
    "    n_iter: number of iterations. Default to 10.\n",
    "    '''\n",
    "    \n",
    "    \n",
    "    if output_dir is not None:\n",
    "        output_dir = Path(output_dir)\n",
    "        if not output_dir.exists():\n",
    "            output_dir.mkdir()\n",
    "\n",
    "    if model is not None:\n",
    "        nlp = spacy.load(model)  # load existing spaCy model\n",
    "        print(f\"Loaded model '{model}'\")\n",
    "    else:\n",
    "        nlp = spacy.blank(\"en\")  # create blank Language class\n",
    "        print(\"Created blank 'en' model\")\n",
    "\n",
    "    # add the text classifier to the pipeline if it doesn't exist\n",
    "    # nlp.create_pipe works for built-ins that are registered with spaCy\n",
    "    if \"textcat\" not in nlp.pipe_names:\n",
    "        textcat = nlp.create_pipe(\n",
    "            \"textcat\", config={\"exclusive_classes\": False, \"architecture\": \"ensemble\"}\n",
    "        )\n",
    "        nlp.add_pipe(textcat, last=True)\n",
    "    # otherwise, get it, so we can add labels to it\n",
    "    else:\n",
    "        textcat = nlp.get_pipe(\"textcat\")\n",
    "    \n",
    "    # add label to text classifier\n",
    "    labels = train_data[0][1]['cats'].keys()\n",
    "    for label in labels:\n",
    "        textcat.add_label(label)\n",
    "\n",
    "    # get names of other pipes to disable them during training\n",
    "    pipe_exceptions = [\"textcat\", \"trf_wordpiecer\", \"trf_tok2vec\"]\n",
    "    other_pipes = [pipe for pipe in nlp.pipe_names if pipe not in pipe_exceptions]\n",
    "    with nlp.disable_pipes(*other_pipes):  # only train textcat\n",
    "        optimizer = nlp.begin_training()\n",
    "        if init_tok2vec is not None:\n",
    "            with init_tok2vec.open(\"rb\") as file_:\n",
    "                textcat.model.tok2vec.from_bytes(file_.read())\n",
    "        print(\"Training the model...\")\n",
    "        print(\"{:^5}\\t{:^5}\\t{:^5}\\t{:^5}\".format(\"LOSS\", \"P\", \"R\", \"F\"))\n",
    "        batch_sizes = compounding(4.0, 32.0, 1.001)\n",
    "        for i in range(n_iter):\n",
    "            losses = {}\n",
    "            # batch up the examples using spaCy's minibatch\n",
    "            random.shuffle(train_data)\n",
    "            batches = minibatch(train_data, size=batch_sizes)\n",
    "            \n",
    "            for batch in batches:\n",
    "                texts, annotations = zip(*batch)\n",
    "                nlp.update(texts, annotations, sgd=optimizer, drop=0.2, losses=losses)\n",
    "            with textcat.model.use_params(optimizer.averages):\n",
    "                # evaluate on the dev data split off in load_data()\n",
    "                scores = evaluate(nlp.tokenizer, textcat, test_data)\n",
    "            print(\n",
    "                \"{0:.3f}\\t{1:.3f}\\t{2:.3f}\\t{3:.3f}\".format(  # print a simple table\n",
    "                    losses[\"textcat\"],\n",
    "                    scores[\"textcat_p\"],\n",
    "                    scores[\"textcat_r\"],\n",
    "                    scores[\"textcat_f\"],\n",
    "                )\n",
    "            )\n",
    "\n",
    "    if output_dir is not None:\n",
    "        with nlp.use_params(optimizer.averages):\n",
    "            nlp.to_disk(output_dir)\n",
    "        print(\"Saved model to\", output_dir)\n",
    "        \n",
    "    \n",
    "    return nlp\n",
    "\n",
    "\n",
    "def evaluate(tokenizer, textcat, test_data):\n",
    "    \n",
    "    docs = (tokenizer(text) for (text, label) in test_data)\n",
    "    tp = 0.0  # True positives\n",
    "    fp = 1e-8  # False positives\n",
    "    fn = 1e-8  # False negatives\n",
    "    tn = 0.0  # True negatives\n",
    "    \n",
    "    for i, doc in enumerate(textcat.pipe(docs)):\n",
    "        \n",
    "        targets = test_data[i][1]['cats']\n",
    "        \n",
    "        for label, score in doc.cats.items():\n",
    "            \n",
    "            if label not in targets:\n",
    "                continue\n",
    "            \n",
    "            if score >= 0.5 and targets[label] >= 0.5:\n",
    "                tp += 1.0\n",
    "            elif score >= 0.5 and targets[label] < 0.5:\n",
    "                fp += 1.0\n",
    "            elif score < 0.5 and targets[label] < 0.5:\n",
    "                tn += 1\n",
    "            elif score < 0.5 and targets[label] >= 0.5:\n",
    "                fn += 1\n",
    "    precision = tp / (tp + fp)\n",
    "    recall = tp / (tp + fn)\n",
    "    if (precision + recall) == 0:\n",
    "        f_score = 0.0\n",
    "    else:\n",
    "        f_score = 2 * (precision * recall) / (precision + recall)\n",
    "    return {\"textcat_p\": precision, \"textcat_r\": recall, \"textcat_f\": f_score}\n",
    "\n"
   ]
  },
  {
   "cell_type": "code",
   "execution_count": null,
   "metadata": {},
   "outputs": [],
   "source": [
    "# def load_data(limit=0, split=0.8):\n",
    "#     \"\"\"Load data from the IMDB dataset.\"\"\"\n",
    "#     # Partition off part of the train data for evaluation\n",
    "#     data, _ = thinc.extra.datasets.imdb()\n",
    "#     random.shuffle(data)\n",
    "#     data = data[-limit:]\n",
    "    \n",
    "#     data = [ (text_label_tuple[0], {\"cats\": {\"POSITIVE\": text_label_tuple[1]==1}}) for text_label_tuple in data]\n",
    "\n",
    "#     split = int(len(data) * split)\n",
    "#     train = data[:split]\n",
    "#     test = data[split:]\n",
    "#     return train, test"
   ]
  },
  {
   "cell_type": "code",
   "execution_count": null,
   "metadata": {},
   "outputs": [],
   "source": [
    "def load_SCM_data(limit=0, split=0.8):\n",
    "    import pandas as pd\n",
    "    df = pd.read_csv('data.csv')\n",
    "    cats = ['hypertension']\n",
    "    data = []\n",
    "    for index, row in df.iterrows():\n",
    "        text = row.text\n",
    "        label = {}\n",
    "        \n",
    "        for cat in cats:\n",
    "            cat_label = (row[cat] == 'Yes' or row[cat] == 'Maybe')\n",
    "            label[cat] = cat_label\n",
    "        \n",
    "        data.append((text,{'cats':label}))\n",
    "    data = data[-limit:]\n",
    "    random.shuffle(data)\n",
    "   \n",
    "    split = int(len(data)*split)\n",
    "    train_data = data[:split]\n",
    "    test_data = data[split:]\n",
    "    return train_data, test_data"
   ]
  },
  {
   "cell_type": "code",
   "execution_count": null,
   "metadata": {},
   "outputs": [],
   "source": []
  },
  {
   "cell_type": "code",
   "execution_count": null,
   "metadata": {},
   "outputs": [],
   "source": [
    "train_data, test_data = load_SCM_data()"
   ]
  },
  {
   "cell_type": "code",
   "execution_count": null,
   "metadata": {},
   "outputs": [],
   "source": []
  },
  {
   "cell_type": "code",
   "execution_count": null,
   "metadata": {
    "scrolled": false
   },
   "outputs": [],
   "source": [
    "nlp = train(train_data, test_data, model='en_core_sci_lg',output_dir=\"trainedSpacyModel\", n_iter=15)"
   ]
  },
  {
   "cell_type": "code",
   "execution_count": null,
   "metadata": {},
   "outputs": [],
   "source": [
    "# test the trained model\n",
    "doc = nlp(\"Patient has high blood pressure\")\n",
    "print(doc.cats)"
   ]
  },
  {
   "cell_type": "code",
   "execution_count": null,
   "metadata": {},
   "outputs": [],
   "source": []
  },
  {
   "cell_type": "code",
   "execution_count": null,
   "metadata": {},
   "outputs": [],
   "source": []
  },
  {
   "cell_type": "code",
   "execution_count": null,
   "metadata": {},
   "outputs": [],
   "source": []
  },
  {
   "cell_type": "code",
   "execution_count": null,
   "metadata": {
    "scrolled": true
   },
   "outputs": [],
   "source": []
  },
  {
   "cell_type": "code",
   "execution_count": null,
   "metadata": {},
   "outputs": [],
   "source": []
  },
  {
   "cell_type": "code",
   "execution_count": null,
   "metadata": {},
   "outputs": [],
   "source": []
  }
 ],
 "metadata": {
  "kernelspec": {
   "display_name": "Python 3",
   "language": "python",
   "name": "python3"
  },
  "language_info": {
   "codemirror_mode": {
    "name": "ipython",
    "version": 3
   },
   "file_extension": ".py",
   "mimetype": "text/x-python",
   "name": "python",
   "nbconvert_exporter": "python",
   "pygments_lexer": "ipython3",
   "version": "3.8.3"
  }
 },
 "nbformat": 4,
 "nbformat_minor": 2
}
