{
 "cells": [
  {
   "cell_type": "code",
   "execution_count": 1,
   "metadata": {},
   "outputs": [],
   "source": [
    "from os import listdir\n",
    "from os.path import isfile, join, basename\n",
    "import csv\n",
    "import re\n",
    "import pandas as pd\n",
    "from collections import defaultdict"
   ]
  },
  {
   "cell_type": "code",
   "execution_count": 2,
   "metadata": {},
   "outputs": [],
   "source": [
    "textDirs = [\n",
    "\"S:/ICD11000193/ICD11000193_Documents/Elliot/AllTextFiles/text/discharge_summary\",\n",
    "\"S:/ICD11000193/ICD11000193_Documents/Elliot/AllTextFiles/text/discharge_summary_-_general\",\n",
    "\"S:/ICD11000193/ICD11000193_Documents/Elliot/AllTextFiles/text/discharge_summary_-_medical\",\n",
    "\"S:/ICD11000193/ICD11000193_Documents/Elliot/AllTextFiles/text/discharge_summary_-_orthopedic_surgery\",\n",
    "\"S:/ICD11000193/ICD11000193_Documents/Elliot/AllTextFiles/text/discharge_summary_-_stroke_neurology\",\n",
    "\"S:/ICD11000193/ICD11000193_Documents/Elliot/AllTextFiles/text/discharge_summary_-_surgery_short\",\n",
    "\"S:/ICD11000193/ICD11000193_Documents/Elliot/AllTextFiles/text/discharge_summary_thoracic_surgery\",\n",
    "\"S:/ICD11000193/ICD11000193_Documents/Elliot/AllTextFiles/text/inpatient_consultation\",\n",
    "\"S:/ICD11000193/ICD11000193_Documents/Elliot/AllTextFiles/text/inpatient_consult_report\",\n",
    "\"S:/ICD11000193/ICD11000193_Documents/Elliot/AllTextFiles/text/inpatient_operative~procedure_report\",\n",
    "\"S:/ICD11000193/ICD11000193_Documents/Elliot/AllTextFiles/text/history_and_physical\",\n",
    "\"S:/ICD11000193/ICD11000193_Documents/Elliot/AllTextFiles/text/history_and_physical_examination\",\n",
    "\"S:/ICD11000193/ICD11000193_Documents/Elliot/AllTextFiles/text/neurological_diagnostics\",\n",
    "\"S:/ICD11000193/ICD11000193_Documents/Elliot/AllTextFiles/text/transfer_summary\",\n",
    "\"S:/ICD11000193/ICD11000193_Documents/Elliot/AllTextFiles/text/urological_diagnostics\"\n",
    "]\n",
    "\n",
    "linkerFile = \"linker.csv\"\n",
    "labelsFile = \"chart_review.csv\"\n",
    "outputFile = \"out.csv\""
   ]
  },
  {
   "cell_type": "code",
   "execution_count": 3,
   "metadata": {},
   "outputs": [],
   "source": [
    "# make a dictionary mapping visit id to chart number\n",
    "mapVisitiIdToChartNumber = dict()\n",
    "with open(linkerFile, 'r') as file:\n",
    "    csvReader = csv.reader(file, delimiter=',')\n",
    "\n",
    "    for i, line in enumerate(csvReader):\n",
    "        if i == 0:\n",
    "            continue\n",
    "        matches = re.search('\\d+', line[2])\n",
    "        chartNumber = int(matches.group(0))\n",
    "        visitId = int(float(line[13]))\n",
    "        mapVisitiIdToChartNumber[visitId] = chartNumber"
   ]
  },
  {
   "cell_type": "code",
   "execution_count": 4,
   "metadata": {},
   "outputs": [
    {
     "name": "stdout",
     "output_type": "stream",
     "text": [
      "Found 5115 files in the specified directories.\n"
     ]
    }
   ],
   "source": [
    "# make a list of paths to the discharge summary files\n",
    "textFilePaths = list()\n",
    "for textDir in textDirs:\n",
    "    textFilePaths += [join(textDir, f) for f in listdir(textDir) if isfile(join(textDir, f))]\n",
    "\n",
    "print(f\"Found {len(textFilePaths)} files in the specified directories.\")\n"
   ]
  },
  {
   "cell_type": "code",
   "execution_count": 5,
   "metadata": {},
   "outputs": [],
   "source": [
    "# make a dictionary mapping chart number to list of file path (each chart number could be associated with multiple files)\n",
    "mapChartNumberToFilePath = defaultdict(list)\n",
    "for textFilePath in textFilePaths:\n",
    "    fileName = basename(textFilePath)\n",
    "    matches = re.search('visitid_(\\d+)-docid_\\d+.txt', fileName)\n",
    "    visitId = int(matches.group(1))\n",
    "    chartNumber = mapVisitiIdToChartNumber.get(visitId)\n",
    "    \n",
    "    if chartNumber:\n",
    "        mapChartNumberToFilePath[chartNumber].append(textFilePath)\n",
    "    else:\n",
    "        print(f\"Could not find chart number for file {textFilePath}\")"
   ]
  },
  {
   "cell_type": "code",
   "execution_count": 6,
   "metadata": {},
   "outputs": [
    {
     "name": "stderr",
     "output_type": "stream",
     "text": [
      "C:\\Users\\oscar.chen1\\Anaconda3\\lib\\site-packages\\IPython\\core\\interactiveshell.py:3071: DtypeWarning: Columns (45,47,48,167,172,177,180,190,191,192,193,194,201,202,203,204,206,270) have mixed types.Specify dtype option on import or set low_memory=False.\n",
      "  has_raised = await self.run_ast_nodes(code_ast.body, cell_name,\n"
     ]
    }
   ],
   "source": [
    "df = pd.read_csv(labelsFile)"
   ]
  },
  {
   "cell_type": "code",
   "execution_count": 7,
   "metadata": {},
   "outputs": [],
   "source": [
    "# Create a value map of every column, save as csv\n",
    "#df.apply(pd.value_counts).to_csv('value_count.csv', index=True)"
   ]
  },
  {
   "cell_type": "code",
   "execution_count": 8,
   "metadata": {},
   "outputs": [],
   "source": [
    "df['Discharge Summary File Path'] = df['Chart Number (RHRN)'].map(mapChartNumberToFilePath)"
   ]
  },
  {
   "cell_type": "code",
   "execution_count": 9,
   "metadata": {},
   "outputs": [
    {
     "data": {
      "text/plain": [
       "0        No\n",
       "1        No\n",
       "2        No\n",
       "3        No\n",
       "4       Yes\n",
       "       ... \n",
       "3068     No\n",
       "3069     No\n",
       "3070     No\n",
       "3071     No\n",
       "3072     No\n",
       "Name: Did this patient have an inpatient I/P visit within 1 year before this admission?, Length: 3073, dtype: object"
      ]
     },
     "execution_count": 9,
     "metadata": {},
     "output_type": "execute_result"
    }
   ],
   "source": [
    "# based on value map of columns, the following columns are selected\n",
    "df['Dyslipidemia present? ']\n",
    "df['Fluid and electrolyte disorder present?']\n",
    "df['Obesity present?']\n",
    "df['Cancer present']\n",
    "df['Peptic ulcer disease present']\n",
    "df['Hypertension present']\n",
    "df['Did this patient have an inpatient I/P visit within 1 year before this admission?']"
   ]
  },
  {
   "cell_type": "code",
   "execution_count": 10,
   "metadata": {
    "scrolled": true
   },
   "outputs": [],
   "source": [
    "# remove all the other columns\n",
    "df = df.loc[:, ['Chart Number (RHRN)','Discharge Summary File Path', 'Dyslipidemia present? ', 'Fluid and electrolyte disorder present?', 'Obesity present?', 'Cancer present', 'Peptic ulcer disease present', 'Hypertension present', 'Did this patient have an inpatient I/P visit within 1 year before this admission?']]"
   ]
  },
  {
   "cell_type": "code",
   "execution_count": 11,
   "metadata": {},
   "outputs": [],
   "source": [
    "# Remove rows where text file path is not available (empty list)\n",
    "df = df[df['Discharge Summary File Path'].map(lambda x: len(x)) > 0]"
   ]
  },
  {
   "cell_type": "code",
   "execution_count": null,
   "metadata": {
    "scrolled": true
   },
   "outputs": [],
   "source": []
  },
  {
   "cell_type": "code",
   "execution_count": 13,
   "metadata": {},
   "outputs": [],
   "source": [
    "# grab text data\n",
    "mapChartNumberToFreeText = dict()\n",
    "for index, row in df.iterrows():\n",
    "    filePaths = row['Discharge Summary File Path']\n",
    "    text = \"\"\n",
    "    for filePath in filePaths:\n",
    "        with open(filePath, 'r', encoding='utf8') as file:\n",
    "            text += \"\\n\" + file.read()\n",
    "    mapChartNumberToFreeText[row['Chart Number (RHRN)']] = text\n",
    "df['text'] = df['Chart Number (RHRN)'].map(mapChartNumberToFreeText)"
   ]
  },
  {
   "cell_type": "code",
   "execution_count": null,
   "metadata": {
    "scrolled": true
   },
   "outputs": [],
   "source": []
  },
  {
   "cell_type": "code",
   "execution_count": 6,
   "metadata": {},
   "outputs": [],
   "source": [
    "# clean up column names\n",
    "df.drop('Discharge Summary File Path', axis=1, inplace=True)\n",
    "df = df.rename(columns={'Chart Number (RHRN)': 'chart', 'Dyslipidemia present? ':'dyslipidemia','Fluid and electrolyte disorder present?':'fluid_electrolyte_disorder','Obesity present?':'obesity', 'Cancer present':'cancer', 'Peptic ulcer disease present':'peptic_ulcer','Hypertension present':'hypertension', 'Did this patient have an inpatient I/P visit within 1 year before this admission?': 'readmission'})"
   ]
  },
  {
   "cell_type": "code",
   "execution_count": null,
   "metadata": {
    "scrolled": true
   },
   "outputs": [],
   "source": []
  },
  {
   "cell_type": "code",
   "execution_count": 12,
   "metadata": {},
   "outputs": [
    {
     "data": {
      "text/html": [
       "<div>\n",
       "<style scoped>\n",
       "    .dataframe tbody tr th:only-of-type {\n",
       "        vertical-align: middle;\n",
       "    }\n",
       "\n",
       "    .dataframe tbody tr th {\n",
       "        vertical-align: top;\n",
       "    }\n",
       "\n",
       "    .dataframe thead th {\n",
       "        text-align: right;\n",
       "    }\n",
       "</style>\n",
       "<table border=\"1\" class=\"dataframe\">\n",
       "  <thead>\n",
       "    <tr style=\"text-align: right;\">\n",
       "      <th></th>\n",
       "      <th>dyslipidemia</th>\n",
       "      <th>fluid_electrolyte_disorder</th>\n",
       "      <th>obesity</th>\n",
       "      <th>cancer</th>\n",
       "      <th>peptic_ulcer</th>\n",
       "      <th>hypertension</th>\n",
       "      <th>readmission</th>\n",
       "    </tr>\n",
       "  </thead>\n",
       "  <tbody>\n",
       "    <tr>\n",
       "      <th>Maybe</th>\n",
       "      <td>3</td>\n",
       "      <td>NaN</td>\n",
       "      <td>4</td>\n",
       "      <td>11</td>\n",
       "      <td>6</td>\n",
       "      <td>2</td>\n",
       "      <td>NaN</td>\n",
       "    </tr>\n",
       "    <tr>\n",
       "      <th>No</th>\n",
       "      <td>1948</td>\n",
       "      <td>2256.0</td>\n",
       "      <td>2240</td>\n",
       "      <td>2078</td>\n",
       "      <td>1988</td>\n",
       "      <td>1512</td>\n",
       "      <td>2199.0</td>\n",
       "    </tr>\n",
       "    <tr>\n",
       "      <th>Yes</th>\n",
       "      <td>1011</td>\n",
       "      <td>706.0</td>\n",
       "      <td>718</td>\n",
       "      <td>873</td>\n",
       "      <td>968</td>\n",
       "      <td>1448</td>\n",
       "      <td>763.0</td>\n",
       "    </tr>\n",
       "  </tbody>\n",
       "</table>\n",
       "</div>"
      ],
      "text/plain": [
       "       dyslipidemia  fluid_electrolyte_disorder  obesity  cancer  \\\n",
       "Maybe             3                         NaN        4      11   \n",
       "No             1948                      2256.0     2240    2078   \n",
       "Yes            1011                       706.0      718     873   \n",
       "\n",
       "       peptic_ulcer  hypertension  readmission  \n",
       "Maybe             6             2          NaN  \n",
       "No             1988          1512       2199.0  \n",
       "Yes             968          1448        763.0  "
      ]
     },
     "execution_count": 12,
     "metadata": {},
     "output_type": "execute_result"
    }
   ],
   "source": [
    "# value distribution for each variable\n",
    "import matplotlib.pyplot as plt\n",
    "dist = df.drop(['chart', 'text'], axis=1, inplace=False).apply(pd.value_counts)\n",
    "dist.plot.bar()"
   ]
  },
  {
   "cell_type": "code",
   "execution_count": 8,
   "metadata": {},
   "outputs": [],
   "source": [
    "# Save data to csv\n",
    "df.to_csv('data.csv', index=False)"
   ]
  }
 ],
 "metadata": {
  "kernelspec": {
   "display_name": "Python 3",
   "language": "python",
   "name": "python3"
  },
  "language_info": {
   "codemirror_mode": {
    "name": "ipython",
    "version": 3
   },
   "file_extension": ".py",
   "mimetype": "text/x-python",
   "name": "python",
   "nbconvert_exporter": "python",
   "pygments_lexer": "ipython3",
   "version": "3.8.3"
  }
 },
 "nbformat": 4,
 "nbformat_minor": 4
}
