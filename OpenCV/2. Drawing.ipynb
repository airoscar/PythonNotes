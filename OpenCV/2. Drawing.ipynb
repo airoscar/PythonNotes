{
 "cells": [
  {
   "cell_type": "code",
   "execution_count": 1,
   "metadata": {},
   "outputs": [],
   "source": [
    "import numpy as np\n",
    "import cv2"
   ]
  },
  {
   "cell_type": "code",
   "execution_count": 2,
   "metadata": {},
   "outputs": [],
   "source": [
    "img = cv2.imread('pic.jpg', cv2.IMREAD_COLOR)"
   ]
  },
  {
   "cell_type": "code",
   "execution_count": 7,
   "metadata": {
    "scrolled": true
   },
   "outputs": [
    {
     "data": {
      "text/plain": [
       "array([[[  0,   0,   0],\n",
       "        [  0,   0,   0],\n",
       "        [  0,   0,   0],\n",
       "        ...,\n",
       "        [ 67,  58,  55],\n",
       "        [ 82,  73,  70],\n",
       "        [ 78,  69,  66]],\n",
       "\n",
       "       [[  0,   0,   0],\n",
       "        [  0,   0,   0],\n",
       "        [  0,   0,   0],\n",
       "        ...,\n",
       "        [ 72,  63,  60],\n",
       "        [ 76,  67,  64],\n",
       "        [ 80,  71,  68]],\n",
       "\n",
       "       [[  0,   0,   0],\n",
       "        [  0,   0,   0],\n",
       "        [  0,   0,   0],\n",
       "        ...,\n",
       "        [ 79,  70,  67],\n",
       "        [ 73,  64,  61],\n",
       "        [ 84,  75,  72]],\n",
       "\n",
       "       ...,\n",
       "\n",
       "       [[201, 196, 195],\n",
       "        [188, 183, 182],\n",
       "        [173, 168, 167],\n",
       "        ...,\n",
       "        [219, 215, 214],\n",
       "        [221, 217, 216],\n",
       "        [221, 217, 216]],\n",
       "\n",
       "       [[201, 196, 195],\n",
       "        [181, 176, 175],\n",
       "        [163, 158, 157],\n",
       "        ...,\n",
       "        [218, 214, 213],\n",
       "        [219, 215, 214],\n",
       "        [219, 215, 214]],\n",
       "\n",
       "       [[196, 190, 191],\n",
       "        [174, 168, 169],\n",
       "        [162, 156, 157],\n",
       "        ...,\n",
       "        [220, 218, 218],\n",
       "        [219, 217, 217],\n",
       "        [218, 216, 216]]], dtype=uint8)"
      ]
     },
     "execution_count": 7,
     "metadata": {},
     "output_type": "execute_result"
    }
   ],
   "source": [
    "cv2.line(img, (0,0), (150,150), (0,0,0), 15)\n",
    "\n",
    "cv2.rectangle(img, (15,25), (200,150), (0,255,0), 5)\n",
    "\n",
    "cv2.circle(img, (100, 100), 55, (0,0,255), -1)"
   ]
  },
  {
   "cell_type": "code",
   "execution_count": 11,
   "metadata": {
    "scrolled": true
   },
   "outputs": [
    {
     "data": {
      "text/plain": [
       "array([[[  0,   0,   0],\n",
       "        [  0,   0,   0],\n",
       "        [  0,   0,   0],\n",
       "        ...,\n",
       "        [ 67,  58,  55],\n",
       "        [ 82,  73,  70],\n",
       "        [ 78,  69,  66]],\n",
       "\n",
       "       [[  0,   0,   0],\n",
       "        [  0,   0,   0],\n",
       "        [  0,   0,   0],\n",
       "        ...,\n",
       "        [ 72,  63,  60],\n",
       "        [ 76,  67,  64],\n",
       "        [ 80,  71,  68]],\n",
       "\n",
       "       [[  0,   0,   0],\n",
       "        [  0,   0,   0],\n",
       "        [  0,   0,   0],\n",
       "        ...,\n",
       "        [ 79,  70,  67],\n",
       "        [ 73,  64,  61],\n",
       "        [ 84,  75,  72]],\n",
       "\n",
       "       ...,\n",
       "\n",
       "       [[201, 196, 195],\n",
       "        [188, 183, 182],\n",
       "        [173, 168, 167],\n",
       "        ...,\n",
       "        [219, 215, 214],\n",
       "        [221, 217, 216],\n",
       "        [221, 217, 216]],\n",
       "\n",
       "       [[201, 196, 195],\n",
       "        [181, 176, 175],\n",
       "        [163, 158, 157],\n",
       "        ...,\n",
       "        [218, 214, 213],\n",
       "        [219, 215, 214],\n",
       "        [219, 215, 214]],\n",
       "\n",
       "       [[196, 190, 191],\n",
       "        [174, 168, 169],\n",
       "        [162, 156, 157],\n",
       "        ...,\n",
       "        [220, 218, 218],\n",
       "        [219, 217, 217],\n",
       "        [218, 216, 216]]], dtype=uint8)"
      ]
     },
     "execution_count": 11,
     "metadata": {},
     "output_type": "execute_result"
    }
   ],
   "source": [
    "pts = np.array([[10,5],[20,30],[70,20],[50,10]], np.int32)\n",
    "pts = pts.reshape((-1,1,2))\n",
    "cv2.polylines(img, [pts], True, (0,255,255), 3)"
   ]
  },
  {
   "cell_type": "code",
   "execution_count": 15,
   "metadata": {
    "scrolled": true
   },
   "outputs": [
    {
     "data": {
      "text/plain": [
       "array([[[  0,   0,   0],\n",
       "        [  0,   0,   0],\n",
       "        [  0,   0,   0],\n",
       "        ...,\n",
       "        [ 67,  58,  55],\n",
       "        [ 82,  73,  70],\n",
       "        [ 78,  69,  66]],\n",
       "\n",
       "       [[  0,   0,   0],\n",
       "        [  0,   0,   0],\n",
       "        [  0,   0,   0],\n",
       "        ...,\n",
       "        [ 72,  63,  60],\n",
       "        [ 76,  67,  64],\n",
       "        [ 80,  71,  68]],\n",
       "\n",
       "       [[  0,   0,   0],\n",
       "        [  0,   0,   0],\n",
       "        [  0,   0,   0],\n",
       "        ...,\n",
       "        [ 79,  70,  67],\n",
       "        [ 73,  64,  61],\n",
       "        [ 84,  75,  72]],\n",
       "\n",
       "       ...,\n",
       "\n",
       "       [[201, 196, 195],\n",
       "        [188, 183, 182],\n",
       "        [173, 168, 167],\n",
       "        ...,\n",
       "        [219, 215, 214],\n",
       "        [221, 217, 216],\n",
       "        [221, 217, 216]],\n",
       "\n",
       "       [[201, 196, 195],\n",
       "        [181, 176, 175],\n",
       "        [163, 158, 157],\n",
       "        ...,\n",
       "        [218, 214, 213],\n",
       "        [219, 215, 214],\n",
       "        [219, 215, 214]],\n",
       "\n",
       "       [[196, 190, 191],\n",
       "        [174, 168, 169],\n",
       "        [162, 156, 157],\n",
       "        ...,\n",
       "        [220, 218, 218],\n",
       "        [219, 217, 217],\n",
       "        [218, 216, 216]]], dtype=uint8)"
      ]
     },
     "execution_count": 15,
     "metadata": {},
     "output_type": "execute_result"
    }
   ],
   "source": [
    "font = cv2.FONT_HERSHEY_COMPLEX\n",
    "cv2.putText(img, 'Hello World', (0,130), font, 1, (200,255,255), 2, cv2.LINE_AA)"
   ]
  },
  {
   "cell_type": "code",
   "execution_count": 16,
   "metadata": {},
   "outputs": [
    {
     "data": {
      "text/plain": [
       "-1"
      ]
     },
     "execution_count": 16,
     "metadata": {},
     "output_type": "execute_result"
    }
   ],
   "source": [
    "cv2.imshow('image', img)\n",
    "cv2.waitKey(0)\n",
    "cv2.destroyAllWindows()\n",
    "cv2.waitKey(1)"
   ]
  },
  {
   "cell_type": "code",
   "execution_count": null,
   "metadata": {},
   "outputs": [],
   "source": []
  },
  {
   "cell_type": "code",
   "execution_count": null,
   "metadata": {},
   "outputs": [],
   "source": []
  }
 ],
 "metadata": {
  "kernelspec": {
   "display_name": "Python 3",
   "language": "python",
   "name": "python3"
  },
  "language_info": {
   "codemirror_mode": {
    "name": "ipython",
    "version": 3
   },
   "file_extension": ".py",
   "mimetype": "text/x-python",
   "name": "python",
   "nbconvert_exporter": "python",
   "pygments_lexer": "ipython3",
   "version": "3.6.7"
  },
  "varInspector": {
   "cols": {
    "lenName": 16,
    "lenType": 16,
    "lenVar": 40
   },
   "kernels_config": {
    "python": {
     "delete_cmd_postfix": "",
     "delete_cmd_prefix": "del ",
     "library": "var_list.py",
     "varRefreshCmd": "print(var_dic_list())"
    },
    "r": {
     "delete_cmd_postfix": ") ",
     "delete_cmd_prefix": "rm(",
     "library": "var_list.r",
     "varRefreshCmd": "cat(var_dic_list()) "
    }
   },
   "types_to_exclude": [
    "module",
    "function",
    "builtin_function_or_method",
    "instance",
    "_Feature"
   ],
   "window_display": false
  }
 },
 "nbformat": 4,
 "nbformat_minor": 2
}
