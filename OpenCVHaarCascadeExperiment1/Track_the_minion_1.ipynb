{
 "cells": [
  {
   "cell_type": "markdown",
   "metadata": {},
   "source": [
    "#### The code below was tested on Python 3.6.7, Numpy 1.15.4, OpenCV 3.4.2"
   ]
  },
  {
   "cell_type": "code",
   "execution_count": 1,
   "metadata": {
    "scrolled": true
   },
   "outputs": [
    {
     "name": "stdout",
     "output_type": "stream",
     "text": [
      "3.6.8 |Anaconda, Inc.| (default, Dec 29 2018, 19:04:46) \n",
      "[GCC 4.2.1 Compatible Clang 4.0.1 (tags/RELEASE_401/final)]\n",
      "1.16.0\n",
      "4.0.0\n"
     ]
    }
   ],
   "source": [
    "import sys\n",
    "print(sys.version)\n",
    "import numpy as np\n",
    "print(np.version.version)\n",
    "import cv2\n",
    "print(cv2.__version__)"
   ]
  },
  {
   "cell_type": "markdown",
   "metadata": {},
   "source": [
    "#### For more information, look up 'Haar features', 'Viola-Jones algorithm', as well as OpenCV documentation."
   ]
  },
  {
   "cell_type": "markdown",
   "metadata": {},
   "source": [
    "#### Step 1: Collect 'negative or 'background images, where the target object is not present."
   ]
  },
  {
   "cell_type": "markdown",
   "metadata": {},
   "source": [
    "Generally a bg.txt file that contains the path to each image, by line."
   ]
  },
  {
   "cell_type": "markdown",
   "metadata": {},
   "source": [
    "example:<br>\n",
    "    neg/1.jpg<br>\n",
    "    neg/2.jpg"
   ]
  },
  {
   "cell_type": "markdown",
   "metadata": {},
   "source": [
    "#### Step 2: Collect 'positive' images, where the target object is present"
   ]
  },
  {
   "cell_type": "markdown",
   "metadata": {},
   "source": [
    "Generally a pos.txt file that contains the path to each image, by line; along with how many objects, and where they are located in the image (x, y, width, height)."
   ]
  },
  {
   "cell_type": "markdown",
   "metadata": {},
   "source": [
    "Example:\n",
    "pos/1.jpg 1 0 0 50 50\n",
    "pos/2.jpg 1 0 0 50 50"
   ]
  },
  {
   "cell_type": "markdown",
   "metadata": {},
   "source": [
    "Generally negative images should be larger than positive images. Ie 100X100 for negatives, and 50X50 for positives."
   ]
  },
  {
   "cell_type": "markdown",
   "metadata": {},
   "source": [
    "#### Step 3: Create a positive vector file by stitching together all positive images, using an OpenCV command."
   ]
  },
  {
   "cell_type": "markdown",
   "metadata": {},
   "source": [
    "#### Step 4: Train cascade using an OpenCV command."
   ]
  },
  {
   "cell_type": "code",
   "execution_count": 2,
   "metadata": {},
   "outputs": [],
   "source": [
    "import urllib.request\n",
    "import numpy as np\n",
    "import cv2\n",
    "import os"
   ]
  },
  {
   "cell_type": "markdown",
   "metadata": {},
   "source": [
    "## Collect negative & positive images"
   ]
  },
  {
   "cell_type": "markdown",
   "metadata": {},
   "source": [
    "Replace the image collection link below, and update the pic_num.\n",
    "pic_num is the starting filename number for image scrapped.\n",
    "I repeated this process for different links several times to get 2100 negative samples. Note: if you forget to change the pic_num, it will replace the image you already have in the directory."
   ]
  },
  {
   "cell_type": "code",
   "execution_count": null,
   "metadata": {
    "scrolled": true
   },
   "outputs": [],
   "source": [
    "def store_raw_images():\n",
    "    \"\"\"Scrape a given link that contains links to images, save to neg folder and resize.\"\"\"\n",
    "    \n",
    "    neg_images_link = 'http://www.image-net.org/api/text/imagenet.synset.geturls?wnid=n00015388'\n",
    "    neg_image_urls = urllib.request.urlopen(neg_images_link).read().decode()\n",
    "    \n",
    "    if not os.path.exists('neg'):\n",
    "        os.makedirs('neg')\n",
    "    \n",
    "    pic_num = 1615 # starting number for naming image files\n",
    "    \n",
    "    for i in neg_image_urls.split('\\n'):\n",
    "        try: \n",
    "            #print(i)\n",
    "            filepath = 'neg/'+str(pic_num)+'.jpg'\n",
    "            urllib.request.urlretrieve(i, filepath)\n",
    "            img = cv2.imread(filepath, cv2.IMREAD_GRAYSCALE)\n",
    "            resized_image = cv2.resize(img, (100,100))\n",
    "            cv2.imwrite(filepath, resized_image)\n",
    "            pic_num += 1\n",
    "            \n",
    "        except Exception as e:\n",
    "            print(str(e))\n",
    "            \n",
    "store_raw_images()\n",
    "    "
   ]
  },
  {
   "cell_type": "markdown",
   "metadata": {},
   "source": [
    "#### Resize and turn positive images to grayscale (if needed)"
   ]
  },
  {
   "cell_type": "code",
   "execution_count": null,
   "metadata": {
    "scrolled": true
   },
   "outputs": [],
   "source": [
    "for img_name in os.listdir('pos'):\n",
    "    img_path = 'pos' + '/' + img_name\n",
    "    img = cv2.imread(img_path, cv2.IMREAD_GRAYSCALE)\n",
    "    try: \n",
    "        resized_img = cv2.resize(img, (50,50))\n",
    "        cv2.imwrite(img_path, resized_img)\n",
    "    except Exception as e:\n",
    "        print(str(e))"
   ]
  },
  {
   "cell_type": "markdown",
   "metadata": {},
   "source": [
    "## Remove unwanted images (if applicable)"
   ]
  },
  {
   "cell_type": "code",
   "execution_count": null,
   "metadata": {},
   "outputs": [],
   "source": [
    "def exclude():\n",
    "    \"\"\"Remove images that are exact copies of ones in the 'exclude' folder from the 'neg' and 'pos' folders \"\"\"\n",
    "\n",
    "    for folder_path in ['neg']:\n",
    "        \n",
    "        for img_name in os.listdir(folder_path):\n",
    "            # the image to be checked\n",
    "            image_path = str(folder_path) + '/' + str(img_name)\n",
    "            \n",
    "            for excluded_img_name in os.listdir('exclude'):\n",
    "                # the image template for exclusion\n",
    "                exclude_img_path = 'exclude/' + str(excluded_img_name)\n",
    "                \n",
    "                try: \n",
    "                    image = cv2.imread(image_path)\n",
    "                    excluded_img = cv2.imread(exclude_img_path)\n",
    "                    \n",
    "                    if image.shape == excluded_img.shape and not(np.bitwise_xor(image, excluded_img).any()):\n",
    "                        os.remove(image_path)\n",
    "                        print('removed ' + image_path)\n",
    "\n",
    "                except Exception as e:\n",
    "                    print(str(e))\n",
    "\n",
    "exclude()"
   ]
  },
  {
   "cell_type": "code",
   "execution_count": null,
   "metadata": {},
   "outputs": [],
   "source": [
    "def create_pos_n_neg():\n",
    "    \"\"\"Creates the files with path directory and descriptions for positive and negative images.\"\"\"\n",
    "    \n",
    "    for folder_path in ['neg']:\n",
    "        \n",
    "        for img_name in os.listdir(folder_path):\n",
    "            \n",
    "            if folder_path == 'neg':\n",
    "                line = folder_path +'/' + img_name + '\\n'\n",
    "                with open('bg.txt', 'a') as f:\n",
    "                    f.write(line)\n",
    "                    \n",
    "            elif folder_path == 'pos':\n",
    "                line = folder_path + '/' + img_name + '1 0 0 50 50\\n'\n",
    "                with open ('info.dat', 'a') as f:\n",
    "                    f.write(line)\n",
    "                    \n",
    "create_pos_n_neg()"
   ]
  },
  {
   "cell_type": "markdown",
   "metadata": {},
   "source": [
    "## Overlay positive images with background (negative) images (if using only one positive sample)"
   ]
  },
  {
   "cell_type": "markdown",
   "metadata": {},
   "source": [
    "#### Create the following folders"
   ]
  },
  {
   "cell_type": "code",
   "execution_count": 3,
   "metadata": {
    "scrolled": true
   },
   "outputs": [],
   "source": [
    "if not os.path.exists('data'): # folder for cascade to be created\n",
    "        os.makedirs('data')\n",
    "        \n",
    "if not os.path.exists('info'): # positive images directory\n",
    "        os.makedirs('info')"
   ]
  },
  {
   "cell_type": "markdown",
   "metadata": {},
   "source": [
    "#### Run the following command in terminal to create positive images, by combining with the negative background images."
   ]
  },
  {
   "cell_type": "markdown",
   "metadata": {},
   "source": [
    "opencv_createsamples -img sample1.jpg -bg bg.txt -info info/info.lst -pngoutput info -maxxangle 0.6 -maxyangle -0.6 -maxzangle 0.6 -num 2100"
   ]
  },
  {
   "cell_type": "markdown",
   "metadata": {},
   "source": [
    "The parameters are as the following:\n",
    "- -img : the positive image file\n",
    "- -bg : the background text file (negative images)\n",
    "- -info : the info file that contains descriptions of positive image within the image\n",
    "- -pngoutput : directory to generate the images\n",
    "- maxxangle : \n",
    "- maxyangle :\n",
    "- maxzangle :\n",
    "- num : number of images to generate"
   ]
  },
  {
   "cell_type": "code",
   "execution_count": 4,
   "metadata": {},
   "outputs": [
    {
     "data": {
      "text/plain": [
       "0"
      ]
     },
     "execution_count": 4,
     "metadata": {},
     "output_type": "execute_result"
    }
   ],
   "source": [
    "os.system(\"opencv_createsamples -img sample1.jpg -bg bg.txt -info info/info.lst -pngoutput info -maxxangle 0.6 -maxyangle -0.6 -maxzangle 0.6 -num 2100\")"
   ]
  },
  {
   "cell_type": "markdown",
   "metadata": {},
   "source": [
    "## Create the vector file by running the following command in terminal"
   ]
  },
  {
   "cell_type": "markdown",
   "metadata": {},
   "source": [
    "opencv_createsamples -info info/info.lst -num 2100 -w 20 -h 20 -vec positives.vec"
   ]
  },
  {
   "cell_type": "markdown",
   "metadata": {},
   "source": [
    "The parameters are as the following:\n",
    "- -info where the info list is located\n",
    "- -num number of vector items\n",
    "- -w width\n",
    "- -h height\n",
    "- -vec output vector file\n",
    "\n",
    "The width and height is the detection area, the larger the slower it would be to train. 20 is an average size used."
   ]
  },
  {
   "cell_type": "code",
   "execution_count": 5,
   "metadata": {},
   "outputs": [
    {
     "data": {
      "text/plain": [
       "0"
      ]
     },
     "execution_count": 5,
     "metadata": {},
     "output_type": "execute_result"
    }
   ],
   "source": [
    "os.system(\"opencv_createsamples -info info/info.lst -num 2100 -w 20 -h 20 -vec positives.vec\")"
   ]
  },
  {
   "cell_type": "markdown",
   "metadata": {},
   "source": [
    "## Training the model"
   ]
  },
  {
   "cell_type": "markdown",
   "metadata": {},
   "source": [
    "#### Run the following command in terminal"
   ]
  },
  {
   "cell_type": "markdown",
   "metadata": {},
   "source": [
    "opencv_traincascade -data data -vec positives.vec -bg bg.txt -numPos 1800 -numNeg 900 -numStages 10 -w 20 -h 20\n",
    "\n",
    "The parameters are as the following:\n",
    "    \n",
    "- -data\n",
    "- -vec : vector filename\n",
    "- -bg : background (negative) text file of image paths\n",
    "- -numPos : the number to be reached before going to the next stage, it should be no more than 0.9* number of positive samples\n",
    "- -numNeg : typically half of number of negative samples\n",
    "- -numStages : 10\n",
    "- -w : 20\n",
    "- -h : 20"
   ]
  },
  {
   "cell_type": "code",
   "execution_count": 6,
   "metadata": {},
   "outputs": [
    {
     "data": {
      "text/plain": [
       "0"
      ]
     },
     "execution_count": 6,
     "metadata": {},
     "output_type": "execute_result"
    }
   ],
   "source": [
    "os.system(\"opencv_traincascade -data data -vec positives.vec -bg bg.txt -numPos 1800 -numNeg 900 -numStages 10 -w 20 -h 20\")"
   ]
  },
  {
   "cell_type": "markdown",
   "metadata": {},
   "source": [
    "Alternatively, use the 'nohup' and '&' to wrap around the command, so that it will run in the background, and can be stopped and resumed later if needed:"
   ]
  },
  {
   "cell_type": "markdown",
   "metadata": {},
   "source": [
    "nohup opencv_traincascade -data data -vec positives.vec -bg bg.txt -numPos 900 -numNeg 500 -numStages 10 -w 20 -h 20 &"
   ]
  },
  {
   "cell_type": "markdown",
   "metadata": {},
   "source": [
    "## Run"
   ]
  },
  {
   "cell_type": "code",
   "execution_count": null,
   "metadata": {},
   "outputs": [],
   "source": [
    "import numpy as np\n",
    "import cv2\n",
    "minion_cascade = cv2.CascadeClassifier('haarcascade_frontalface_default.xml')\n",
    "\n",
    "cap = cv2.VideoCapture(0)\n",
    "\n",
    "while True:\n",
    "    ret, img = cap.read()\n",
    "    gray = cv2.cvtColor(img, cv2.COLOR_BGR2GRAY)\n",
    "    minions = minion_cascade.detectMultiScale(gray)   # The parameters here need to be tuned\n",
    "    \n",
    "    for (x,y,w,h) in minions:\n",
    "        cv2.rectangle(img, (x,y), (x+w, y+h), (255,255,0), 2)\n",
    "        \n",
    "    cv2.imshow('img', img)\n",
    "    k = cv2.waitKey(30) & 0xff\n",
    "    if k == 27:\n",
    "        break\n",
    "        \n",
    "cap.release()\n",
    "cv2.destroyAllWindows()\n",
    "cv2.waitKey(1)\n"
   ]
  },
  {
   "cell_type": "markdown",
   "metadata": {},
   "source": [
    "Notes:\n",
    "There seems to be a bug with OpenCV running in Jupyter Notebook, cv2.imshow() causes the program to hang. The last line 'cv2.waitKey(1)' somehow bypasses it and allows the cv2.imshow() to work.\n",
    "Even so, you still need to restart the kernel after stopping the run."
   ]
  },
  {
   "cell_type": "markdown",
   "metadata": {},
   "source": [
    "#### Restart kernel"
   ]
  },
  {
   "cell_type": "code",
   "execution_count": 6,
   "metadata": {},
   "outputs": [
    {
     "data": {
      "text/plain": [
       "{'status': 'ok', 'restart': True}"
      ]
     },
     "execution_count": 6,
     "metadata": {},
     "output_type": "execute_result"
    }
   ],
   "source": [
    "import IPython\n",
    "app = IPython.Application.instance()\n",
    "app.kernel.do_shutdown(True)  \n"
   ]
  },
  {
   "cell_type": "code",
   "execution_count": null,
   "metadata": {},
   "outputs": [],
   "source": []
  }
 ],
 "metadata": {
  "kernelspec": {
   "display_name": "Python 3",
   "language": "python",
   "name": "python3"
  },
  "language_info": {
   "codemirror_mode": {
    "name": "ipython",
    "version": 3
   },
   "file_extension": ".py",
   "mimetype": "text/x-python",
   "name": "python",
   "nbconvert_exporter": "python",
   "pygments_lexer": "ipython3",
   "version": "3.6.8"
  },
  "varInspector": {
   "cols": {
    "lenName": 16,
    "lenType": 16,
    "lenVar": 40
   },
   "kernels_config": {
    "python": {
     "delete_cmd_postfix": "",
     "delete_cmd_prefix": "del ",
     "library": "var_list.py",
     "varRefreshCmd": "print(var_dic_list())"
    },
    "r": {
     "delete_cmd_postfix": ") ",
     "delete_cmd_prefix": "rm(",
     "library": "var_list.r",
     "varRefreshCmd": "cat(var_dic_list()) "
    }
   },
   "types_to_exclude": [
    "module",
    "function",
    "builtin_function_or_method",
    "instance",
    "_Feature"
   ],
   "window_display": false
  }
 },
 "nbformat": 4,
 "nbformat_minor": 2
}
